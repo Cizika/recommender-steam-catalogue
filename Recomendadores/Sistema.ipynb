{
 "cells": [
  {
   "cell_type": "markdown",
   "metadata": {},
   "source": [
    "# Recomendação de Jogos da Steam\n",
    "## Projeto da disciplina **SCC0284 - Sistemas de Recomendação**\n",
    "\n",
    "* Lucas Ciziks - 12559472 - luciziks@usp.br\n",
    "\n",
    "* Pedro Maçonetto - 12675419 - pedromaconetto@usp.br"
   ]
  },
  {
   "cell_type": "code",
   "execution_count": 2,
   "metadata": {},
   "outputs": [],
   "source": [
    "# Bibliotecas a serem utilizadas no trabalho\n",
    "import pandas as pd\n",
    "import numpy as np\n",
    "from matplotlib import pyplot as plt\n",
    "from math import sqrt\n",
    "from sklearn.metrics.pairwise import cosine_similarity\n",
    "from sklearn.model_selection import train_test_split\n",
    "from caserec.recommenders.item_recommendation.item_attribute_knn import ItemAttributeKNN\n",
    "import six\n",
    "import chainer\n",
    "import chainer.functions as F\n",
    "import chainer.links as L\n",
    "from chainer import optimizers, serializers\n",
    "from tqdm import tqdm"
   ]
  },
  {
   "cell_type": "markdown",
   "metadata": {},
   "source": [
    "## Bases de Dados\n",
    "Serão utilizadas duas bases de dados encontradas no Kaggle. A base de dados principal reúne as críticas/*reviews* de usuários de todo o mundo para alguns jogos da plataforma, com 8GB de dados. Em conjunto, utilizaremos uma base complementar contendo os metadados dos jogos para auxílio nos algoritmos de recomendação implementados.\n",
    "\n",
    "As bases completas podem ser acessadas em:\n",
    "\n",
    "* [Steam Reviews](https://www.kaggle.com/datasets/andrewmvd/steam-reviews): Avaliações reais de jogos na plataforma\n",
    "Steam em 2021; \n",
    "* [Steam Metadata](https://www.kaggle.com/datasets/nikdavis/steam-store-games): Informações e metadados sobre os jogos\n",
    "disponíveis na plataforma Steam. "
   ]
  },
  {
   "cell_type": "markdown",
   "metadata": {},
   "source": [
    "### Amostragem\n",
    "\n",
    "Como a base de *reviews* é extremamente grande, com mais de 8GB de tamanho, tomaremos uma amostra com **100000 usuários** para aplicarmos e testarmos os métodos em um tempo hábil de processamento."
   ]
  },
  {
   "cell_type": "code",
   "execution_count": 3,
   "metadata": {},
   "outputs": [],
   "source": [
    "# Importando arquivo de Reviews da Steam\n",
    "# df = pd.read_csv('steam_reviews.csv')\n",
    "\n",
    "# Separando os valores únicos de todos os usuários presentes\n",
    "# steam_id = df['author.steamid'].unique()\n",
    "\n",
    "# Escolhemos aleatoriamente 100000 desses usuários\n",
    "# random_users = np.random.choice(steam_id, 100000)\n",
    "\n",
    "# Criamos um DataFrame separado somente com estes usuários e suas informações\n",
    "# data_reduzido = df[df['author.steamid'].isin(random_users)]\n",
    "\n",
    "# Transformamos por fim este dataframe em um arquivo .csv para facilitar a manipulação dos dados ao longo do tempo\n",
    "# data_reduzido.to_csv('reviews_reduzido.csv')"
   ]
  },
  {
   "cell_type": "markdown",
   "metadata": {},
   "source": [
    "### Tratamento de Dados\n",
    "\n",
    "Utilizando a base de dados reduzida, armazenada no arquivo *reviews_reduzido.csv*, a próxima etapa é limpar e adequar os dados para os recomendadores."
   ]
  },
  {
   "cell_type": "code",
   "execution_count": 4,
   "metadata": {},
   "outputs": [
    {
     "data": {
      "text/html": [
       "<div>\n",
       "<style scoped>\n",
       "    .dataframe tbody tr th:only-of-type {\n",
       "        vertical-align: middle;\n",
       "    }\n",
       "\n",
       "    .dataframe tbody tr th {\n",
       "        vertical-align: top;\n",
       "    }\n",
       "\n",
       "    .dataframe thead th {\n",
       "        text-align: right;\n",
       "    }\n",
       "</style>\n",
       "<table border=\"1\" class=\"dataframe\">\n",
       "  <thead>\n",
       "    <tr style=\"text-align: right;\">\n",
       "      <th></th>\n",
       "      <th>Unnamed: 0.1</th>\n",
       "      <th>Unnamed: 0</th>\n",
       "      <th>app_id</th>\n",
       "      <th>app_name</th>\n",
       "      <th>review_id</th>\n",
       "      <th>language</th>\n",
       "      <th>review</th>\n",
       "      <th>timestamp_created</th>\n",
       "      <th>timestamp_updated</th>\n",
       "      <th>recommended</th>\n",
       "      <th>...</th>\n",
       "      <th>steam_purchase</th>\n",
       "      <th>received_for_free</th>\n",
       "      <th>written_during_early_access</th>\n",
       "      <th>author.steamid</th>\n",
       "      <th>author.num_games_owned</th>\n",
       "      <th>author.num_reviews</th>\n",
       "      <th>author.playtime_forever</th>\n",
       "      <th>author.playtime_last_two_weeks</th>\n",
       "      <th>author.playtime_at_review</th>\n",
       "      <th>author.last_played</th>\n",
       "    </tr>\n",
       "  </thead>\n",
       "  <tbody>\n",
       "    <tr>\n",
       "      <th>0</th>\n",
       "      <td>1917</td>\n",
       "      <td>1917</td>\n",
       "      <td>292030</td>\n",
       "      <td>The Witcher 3: Wild Hunt</td>\n",
       "      <td>84817041</td>\n",
       "      <td>polish</td>\n",
       "      <td>cos malo kontentu</td>\n",
       "      <td>1610838136</td>\n",
       "      <td>1610838136</td>\n",
       "      <td>True</td>\n",
       "      <td>...</td>\n",
       "      <td>True</td>\n",
       "      <td>False</td>\n",
       "      <td>False</td>\n",
       "      <td>76561199069719082</td>\n",
       "      <td>16</td>\n",
       "      <td>1</td>\n",
       "      <td>3442.0</td>\n",
       "      <td>1777.0</td>\n",
       "      <td>2903.0</td>\n",
       "      <td>1.611356e+09</td>\n",
       "    </tr>\n",
       "    <tr>\n",
       "      <th>1</th>\n",
       "      <td>2212</td>\n",
       "      <td>2212</td>\n",
       "      <td>292030</td>\n",
       "      <td>The Witcher 3: Wild Hunt</td>\n",
       "      <td>84770465</td>\n",
       "      <td>english</td>\n",
       "      <td>Better than some games.</td>\n",
       "      <td>1610776476</td>\n",
       "      <td>1610776476</td>\n",
       "      <td>True</td>\n",
       "      <td>...</td>\n",
       "      <td>True</td>\n",
       "      <td>False</td>\n",
       "      <td>False</td>\n",
       "      <td>76561198134193481</td>\n",
       "      <td>10</td>\n",
       "      <td>1</td>\n",
       "      <td>19397.0</td>\n",
       "      <td>1030.0</td>\n",
       "      <td>18917.0</td>\n",
       "      <td>1.611383e+09</td>\n",
       "    </tr>\n",
       "    <tr>\n",
       "      <th>2</th>\n",
       "      <td>2292</td>\n",
       "      <td>2292</td>\n",
       "      <td>292030</td>\n",
       "      <td>The Witcher 3: Wild Hunt</td>\n",
       "      <td>84753053</td>\n",
       "      <td>english</td>\n",
       "      <td>still one of my favorite games love the story ...</td>\n",
       "      <td>1610749166</td>\n",
       "      <td>1610749166</td>\n",
       "      <td>True</td>\n",
       "      <td>...</td>\n",
       "      <td>True</td>\n",
       "      <td>False</td>\n",
       "      <td>False</td>\n",
       "      <td>76561198076025535</td>\n",
       "      <td>106</td>\n",
       "      <td>6</td>\n",
       "      <td>364.0</td>\n",
       "      <td>55.0</td>\n",
       "      <td>308.0</td>\n",
       "      <td>1.610775e+09</td>\n",
       "    </tr>\n",
       "    <tr>\n",
       "      <th>3</th>\n",
       "      <td>2923</td>\n",
       "      <td>2923</td>\n",
       "      <td>292030</td>\n",
       "      <td>The Witcher 3: Wild Hunt</td>\n",
       "      <td>84646036</td>\n",
       "      <td>koreana</td>\n",
       "      <td>재미있음 너무 퀘스트가 많아서 할게 많아보이지만 안해도되는거 같음 메인퀘를 중심으로...</td>\n",
       "      <td>1610589095</td>\n",
       "      <td>1610589095</td>\n",
       "      <td>True</td>\n",
       "      <td>...</td>\n",
       "      <td>True</td>\n",
       "      <td>False</td>\n",
       "      <td>False</td>\n",
       "      <td>76561198043684666</td>\n",
       "      <td>10</td>\n",
       "      <td>1</td>\n",
       "      <td>2561.0</td>\n",
       "      <td>1836.0</td>\n",
       "      <td>1060.0</td>\n",
       "      <td>1.610974e+09</td>\n",
       "    </tr>\n",
       "    <tr>\n",
       "      <th>4</th>\n",
       "      <td>3774</td>\n",
       "      <td>3774</td>\n",
       "      <td>292030</td>\n",
       "      <td>The Witcher 3: Wild Hunt</td>\n",
       "      <td>84500650</td>\n",
       "      <td>turkish</td>\n",
       "      <td>.</td>\n",
       "      <td>1610382839</td>\n",
       "      <td>1610382839</td>\n",
       "      <td>True</td>\n",
       "      <td>...</td>\n",
       "      <td>True</td>\n",
       "      <td>False</td>\n",
       "      <td>False</td>\n",
       "      <td>76561198954233218</td>\n",
       "      <td>26</td>\n",
       "      <td>1</td>\n",
       "      <td>2611.0</td>\n",
       "      <td>923.0</td>\n",
       "      <td>2141.0</td>\n",
       "      <td>1.611362e+09</td>\n",
       "    </tr>\n",
       "  </tbody>\n",
       "</table>\n",
       "<p>5 rows × 24 columns</p>\n",
       "</div>"
      ],
      "text/plain": [
       "   Unnamed: 0.1  Unnamed: 0  app_id                  app_name  review_id  \\\n",
       "0          1917        1917  292030  The Witcher 3: Wild Hunt   84817041   \n",
       "1          2212        2212  292030  The Witcher 3: Wild Hunt   84770465   \n",
       "2          2292        2292  292030  The Witcher 3: Wild Hunt   84753053   \n",
       "3          2923        2923  292030  The Witcher 3: Wild Hunt   84646036   \n",
       "4          3774        3774  292030  The Witcher 3: Wild Hunt   84500650   \n",
       "\n",
       "  language                                             review  \\\n",
       "0   polish                                  cos malo kontentu   \n",
       "1  english                            Better than some games.   \n",
       "2  english  still one of my favorite games love the story ...   \n",
       "3  koreana  재미있음 너무 퀘스트가 많아서 할게 많아보이지만 안해도되는거 같음 메인퀘를 중심으로...   \n",
       "4  turkish                                                  .   \n",
       "\n",
       "   timestamp_created  timestamp_updated  recommended  ...  steam_purchase  \\\n",
       "0         1610838136         1610838136         True  ...            True   \n",
       "1         1610776476         1610776476         True  ...            True   \n",
       "2         1610749166         1610749166         True  ...            True   \n",
       "3         1610589095         1610589095         True  ...            True   \n",
       "4         1610382839         1610382839         True  ...            True   \n",
       "\n",
       "   received_for_free  written_during_early_access     author.steamid  \\\n",
       "0              False                        False  76561199069719082   \n",
       "1              False                        False  76561198134193481   \n",
       "2              False                        False  76561198076025535   \n",
       "3              False                        False  76561198043684666   \n",
       "4              False                        False  76561198954233218   \n",
       "\n",
       "   author.num_games_owned  author.num_reviews  author.playtime_forever  \\\n",
       "0                      16                   1                   3442.0   \n",
       "1                      10                   1                  19397.0   \n",
       "2                     106                   6                    364.0   \n",
       "3                      10                   1                   2561.0   \n",
       "4                      26                   1                   2611.0   \n",
       "\n",
       "   author.playtime_last_two_weeks  author.playtime_at_review  \\\n",
       "0                          1777.0                     2903.0   \n",
       "1                          1030.0                    18917.0   \n",
       "2                            55.0                      308.0   \n",
       "3                          1836.0                     1060.0   \n",
       "4                           923.0                     2141.0   \n",
       "\n",
       "   author.last_played  \n",
       "0        1.611356e+09  \n",
       "1        1.611383e+09  \n",
       "2        1.610775e+09  \n",
       "3        1.610974e+09  \n",
       "4        1.611362e+09  \n",
       "\n",
       "[5 rows x 24 columns]"
      ]
     },
     "execution_count": 4,
     "metadata": {},
     "output_type": "execute_result"
    }
   ],
   "source": [
    "# Reviews Reduzido dos jogos\n",
    "review = pd.read_csv('reviews_reduzido.csv')\n",
    "review.head()"
   ]
  },
  {
   "cell_type": "code",
   "execution_count": 5,
   "metadata": {},
   "outputs": [
    {
     "data": {
      "text/html": [
       "<div>\n",
       "<style scoped>\n",
       "    .dataframe tbody tr th:only-of-type {\n",
       "        vertical-align: middle;\n",
       "    }\n",
       "\n",
       "    .dataframe tbody tr th {\n",
       "        vertical-align: top;\n",
       "    }\n",
       "\n",
       "    .dataframe thead th {\n",
       "        text-align: right;\n",
       "    }\n",
       "</style>\n",
       "<table border=\"1\" class=\"dataframe\">\n",
       "  <thead>\n",
       "    <tr style=\"text-align: right;\">\n",
       "      <th></th>\n",
       "      <th>appid</th>\n",
       "      <th>name</th>\n",
       "      <th>release_date</th>\n",
       "      <th>english</th>\n",
       "      <th>developer</th>\n",
       "      <th>publisher</th>\n",
       "      <th>platforms</th>\n",
       "      <th>required_age</th>\n",
       "      <th>categories</th>\n",
       "      <th>genres</th>\n",
       "      <th>steamspy_tags</th>\n",
       "      <th>achievements</th>\n",
       "      <th>positive_ratings</th>\n",
       "      <th>negative_ratings</th>\n",
       "      <th>average_playtime</th>\n",
       "      <th>median_playtime</th>\n",
       "      <th>owners</th>\n",
       "      <th>price</th>\n",
       "    </tr>\n",
       "  </thead>\n",
       "  <tbody>\n",
       "    <tr>\n",
       "      <th>0</th>\n",
       "      <td>10</td>\n",
       "      <td>Counter-Strike</td>\n",
       "      <td>2000-11-01</td>\n",
       "      <td>1</td>\n",
       "      <td>Valve</td>\n",
       "      <td>Valve</td>\n",
       "      <td>windows;mac;linux</td>\n",
       "      <td>0</td>\n",
       "      <td>Multi-player;Online Multi-Player;Local Multi-P...</td>\n",
       "      <td>Action</td>\n",
       "      <td>Action;FPS;Multiplayer</td>\n",
       "      <td>0</td>\n",
       "      <td>124534</td>\n",
       "      <td>3339</td>\n",
       "      <td>17612</td>\n",
       "      <td>317</td>\n",
       "      <td>10000000-20000000</td>\n",
       "      <td>7.19</td>\n",
       "    </tr>\n",
       "    <tr>\n",
       "      <th>1</th>\n",
       "      <td>20</td>\n",
       "      <td>Team Fortress Classic</td>\n",
       "      <td>1999-04-01</td>\n",
       "      <td>1</td>\n",
       "      <td>Valve</td>\n",
       "      <td>Valve</td>\n",
       "      <td>windows;mac;linux</td>\n",
       "      <td>0</td>\n",
       "      <td>Multi-player;Online Multi-Player;Local Multi-P...</td>\n",
       "      <td>Action</td>\n",
       "      <td>Action;FPS;Multiplayer</td>\n",
       "      <td>0</td>\n",
       "      <td>3318</td>\n",
       "      <td>633</td>\n",
       "      <td>277</td>\n",
       "      <td>62</td>\n",
       "      <td>5000000-10000000</td>\n",
       "      <td>3.99</td>\n",
       "    </tr>\n",
       "    <tr>\n",
       "      <th>2</th>\n",
       "      <td>30</td>\n",
       "      <td>Day of Defeat</td>\n",
       "      <td>2003-05-01</td>\n",
       "      <td>1</td>\n",
       "      <td>Valve</td>\n",
       "      <td>Valve</td>\n",
       "      <td>windows;mac;linux</td>\n",
       "      <td>0</td>\n",
       "      <td>Multi-player;Valve Anti-Cheat enabled</td>\n",
       "      <td>Action</td>\n",
       "      <td>FPS;World War II;Multiplayer</td>\n",
       "      <td>0</td>\n",
       "      <td>3416</td>\n",
       "      <td>398</td>\n",
       "      <td>187</td>\n",
       "      <td>34</td>\n",
       "      <td>5000000-10000000</td>\n",
       "      <td>3.99</td>\n",
       "    </tr>\n",
       "    <tr>\n",
       "      <th>3</th>\n",
       "      <td>40</td>\n",
       "      <td>Deathmatch Classic</td>\n",
       "      <td>2001-06-01</td>\n",
       "      <td>1</td>\n",
       "      <td>Valve</td>\n",
       "      <td>Valve</td>\n",
       "      <td>windows;mac;linux</td>\n",
       "      <td>0</td>\n",
       "      <td>Multi-player;Online Multi-Player;Local Multi-P...</td>\n",
       "      <td>Action</td>\n",
       "      <td>Action;FPS;Multiplayer</td>\n",
       "      <td>0</td>\n",
       "      <td>1273</td>\n",
       "      <td>267</td>\n",
       "      <td>258</td>\n",
       "      <td>184</td>\n",
       "      <td>5000000-10000000</td>\n",
       "      <td>3.99</td>\n",
       "    </tr>\n",
       "    <tr>\n",
       "      <th>4</th>\n",
       "      <td>50</td>\n",
       "      <td>Half-Life: Opposing Force</td>\n",
       "      <td>1999-11-01</td>\n",
       "      <td>1</td>\n",
       "      <td>Gearbox Software</td>\n",
       "      <td>Valve</td>\n",
       "      <td>windows;mac;linux</td>\n",
       "      <td>0</td>\n",
       "      <td>Single-player;Multi-player;Valve Anti-Cheat en...</td>\n",
       "      <td>Action</td>\n",
       "      <td>FPS;Action;Sci-fi</td>\n",
       "      <td>0</td>\n",
       "      <td>5250</td>\n",
       "      <td>288</td>\n",
       "      <td>624</td>\n",
       "      <td>415</td>\n",
       "      <td>5000000-10000000</td>\n",
       "      <td>3.99</td>\n",
       "    </tr>\n",
       "  </tbody>\n",
       "</table>\n",
       "</div>"
      ],
      "text/plain": [
       "   appid                       name release_date  english         developer  \\\n",
       "0     10             Counter-Strike   2000-11-01        1             Valve   \n",
       "1     20      Team Fortress Classic   1999-04-01        1             Valve   \n",
       "2     30              Day of Defeat   2003-05-01        1             Valve   \n",
       "3     40         Deathmatch Classic   2001-06-01        1             Valve   \n",
       "4     50  Half-Life: Opposing Force   1999-11-01        1  Gearbox Software   \n",
       "\n",
       "  publisher          platforms  required_age  \\\n",
       "0     Valve  windows;mac;linux             0   \n",
       "1     Valve  windows;mac;linux             0   \n",
       "2     Valve  windows;mac;linux             0   \n",
       "3     Valve  windows;mac;linux             0   \n",
       "4     Valve  windows;mac;linux             0   \n",
       "\n",
       "                                          categories  genres  \\\n",
       "0  Multi-player;Online Multi-Player;Local Multi-P...  Action   \n",
       "1  Multi-player;Online Multi-Player;Local Multi-P...  Action   \n",
       "2              Multi-player;Valve Anti-Cheat enabled  Action   \n",
       "3  Multi-player;Online Multi-Player;Local Multi-P...  Action   \n",
       "4  Single-player;Multi-player;Valve Anti-Cheat en...  Action   \n",
       "\n",
       "                  steamspy_tags  achievements  positive_ratings  \\\n",
       "0        Action;FPS;Multiplayer             0            124534   \n",
       "1        Action;FPS;Multiplayer             0              3318   \n",
       "2  FPS;World War II;Multiplayer             0              3416   \n",
       "3        Action;FPS;Multiplayer             0              1273   \n",
       "4             FPS;Action;Sci-fi             0              5250   \n",
       "\n",
       "   negative_ratings  average_playtime  median_playtime             owners  \\\n",
       "0              3339             17612              317  10000000-20000000   \n",
       "1               633               277               62   5000000-10000000   \n",
       "2               398               187               34   5000000-10000000   \n",
       "3               267               258              184   5000000-10000000   \n",
       "4               288               624              415   5000000-10000000   \n",
       "\n",
       "   price  \n",
       "0   7.19  \n",
       "1   3.99  \n",
       "2   3.99  \n",
       "3   3.99  \n",
       "4   3.99  "
      ]
     },
     "execution_count": 5,
     "metadata": {},
     "output_type": "execute_result"
    }
   ],
   "source": [
    "# Metadados dos Jogos\n",
    "metadados = pd.read_csv('steam_metadados.csv')\n",
    "metadados.head()"
   ]
  },
  {
   "cell_type": "code",
   "execution_count": 6,
   "metadata": {},
   "outputs": [],
   "source": [
    "# Removendo colunas que não serão utilizadas, e renomeando as que serão\n",
    "review = review.drop(['Unnamed: 0.1', 'Unnamed: 0', 'timestamp_created', 'received_for_free', 'written_during_early_access', 'votes_helpful', 'votes_funny', 'weighted_vote_score', 'timestamp_updated'], axis=1)\n",
    "review = review.rename(columns = {'app_id': 'itemId', 'app_name': 'itemName', 'review_id': 'reviewId',\n",
    "       'comment_count': 'commentCount', 'steam_purchase': 'steamPurchase',\n",
    "       'author.steamid': 'userId', 'author.num_games_owned': 'userGames', 'author.num_reviews': 'userReviews',\n",
    "       'author.playtime_forever': 'userPlaytimeForever', 'author.playtime_last_two_weeks': 'userPlaytimeLastTwoWeeks',\n",
    "       'author.playtime_at_review': 'userPlaytimeAtReview', 'author.last_played': 'userLastPlayed'})\n",
    "metadados.rename(columns = {'appid': 'itemId', 'name': 'itemName'}, inplace= True)"
   ]
  },
  {
   "cell_type": "code",
   "execution_count": 7,
   "metadata": {},
   "outputs": [],
   "source": [
    "# Como utilizamos uma amostragem da base de dados original, faremos um cruzamento de dados \n",
    "# entre os jogos da amostra e os jogos disponíveis nos metadados\n",
    "commonItems = list(set(metadados.itemName.unique())&set(review.itemName))\n",
    "review = review.loc[review['itemName'].isin(commonItems)]\n",
    "metadados = metadados.loc[metadados['itemName'].isin(commonItems)]"
   ]
  },
  {
   "cell_type": "code",
   "execution_count": 8,
   "metadata": {},
   "outputs": [],
   "source": [
    "# Mapeamento de itens e usuários\n",
    "itemId = {item: idx for idx, item in enumerate(commonItems)}\n",
    "userId = {user: idx for idx, user in enumerate(review['userId'])}\n",
    "\n",
    "metadados['itemId'] = metadados['itemName'].map(itemId).dropna()\n",
    "review['itemId'] = review['itemName'].map(itemId).dropna()\n",
    "review['userId'] = review['userId'].map(userId).dropna()\n",
    "\n",
    "# Binarizando a feedback dado pelo usuário (recomendado ou não-recomendado)\n",
    "review['rating'] = review['recommended'].apply(lambda review: 1 if review else 0)\n",
    "\n",
    "# Separando os gêneros dos itens do arquivo de metadados\n",
    "metadados = metadados.drop('genres', axis=1).join(metadados.genres.str.split(';', expand=True)\n",
    "             .stack().reset_index(drop=True, level=1).rename('genre'))\n",
    "metadados.dropna(inplace=True)"
   ]
  },
  {
   "cell_type": "code",
   "execution_count": 9,
   "metadata": {},
   "outputs": [
    {
     "data": {
      "text/html": [
       "<div>\n",
       "<style scoped>\n",
       "    .dataframe tbody tr th:only-of-type {\n",
       "        vertical-align: middle;\n",
       "    }\n",
       "\n",
       "    .dataframe tbody tr th {\n",
       "        vertical-align: top;\n",
       "    }\n",
       "\n",
       "    .dataframe thead th {\n",
       "        text-align: right;\n",
       "    }\n",
       "</style>\n",
       "<table border=\"1\" class=\"dataframe\">\n",
       "  <thead>\n",
       "    <tr style=\"text-align: right;\">\n",
       "      <th></th>\n",
       "      <th>itemId</th>\n",
       "      <th>itemName</th>\n",
       "      <th>reviewId</th>\n",
       "      <th>language</th>\n",
       "      <th>review</th>\n",
       "      <th>recommended</th>\n",
       "      <th>commentCount</th>\n",
       "      <th>steamPurchase</th>\n",
       "      <th>userId</th>\n",
       "      <th>userGames</th>\n",
       "      <th>userReviews</th>\n",
       "      <th>userPlaytimeForever</th>\n",
       "      <th>userPlaytimeLastTwoWeeks</th>\n",
       "      <th>userPlaytimeAtReview</th>\n",
       "      <th>userLastPlayed</th>\n",
       "      <th>rating</th>\n",
       "    </tr>\n",
       "  </thead>\n",
       "  <tbody>\n",
       "    <tr>\n",
       "      <th>379</th>\n",
       "      <td>101</td>\n",
       "      <td>Half-Life</td>\n",
       "      <td>84840205</td>\n",
       "      <td>turkish</td>\n",
       "      <td>D-dostum torent kullanma ve al</td>\n",
       "      <td>True</td>\n",
       "      <td>0</td>\n",
       "      <td>True</td>\n",
       "      <td>0</td>\n",
       "      <td>26</td>\n",
       "      <td>2</td>\n",
       "      <td>79.0</td>\n",
       "      <td>0.0</td>\n",
       "      <td>79.0</td>\n",
       "      <td>1.592832e+09</td>\n",
       "      <td>1</td>\n",
       "    </tr>\n",
       "    <tr>\n",
       "      <th>380</th>\n",
       "      <td>101</td>\n",
       "      <td>Half-Life</td>\n",
       "      <td>84803254</td>\n",
       "      <td>english</td>\n",
       "      <td>its pretty good.</td>\n",
       "      <td>True</td>\n",
       "      <td>0</td>\n",
       "      <td>True</td>\n",
       "      <td>3649</td>\n",
       "      <td>11</td>\n",
       "      <td>5</td>\n",
       "      <td>564.0</td>\n",
       "      <td>9.0</td>\n",
       "      <td>555.0</td>\n",
       "      <td>1.610943e+09</td>\n",
       "      <td>1</td>\n",
       "    </tr>\n",
       "    <tr>\n",
       "      <th>381</th>\n",
       "      <td>101</td>\n",
       "      <td>Half-Life</td>\n",
       "      <td>83553107</td>\n",
       "      <td>german</td>\n",
       "      <td>Immer noch ein absolut geniales Spiel. Die Ste...</td>\n",
       "      <td>True</td>\n",
       "      <td>0</td>\n",
       "      <td>True</td>\n",
       "      <td>2</td>\n",
       "      <td>15</td>\n",
       "      <td>1</td>\n",
       "      <td>329.0</td>\n",
       "      <td>0.0</td>\n",
       "      <td>329.0</td>\n",
       "      <td>1.608773e+09</td>\n",
       "      <td>1</td>\n",
       "    </tr>\n",
       "    <tr>\n",
       "      <th>382</th>\n",
       "      <td>101</td>\n",
       "      <td>Half-Life</td>\n",
       "      <td>83546336</td>\n",
       "      <td>turkish</td>\n",
       "      <td>bu oyunu unlost izledikten sonra alanlar :D</td>\n",
       "      <td>True</td>\n",
       "      <td>0</td>\n",
       "      <td>True</td>\n",
       "      <td>5658</td>\n",
       "      <td>6</td>\n",
       "      <td>4</td>\n",
       "      <td>650.0</td>\n",
       "      <td>69.0</td>\n",
       "      <td>319.0</td>\n",
       "      <td>1.610887e+09</td>\n",
       "      <td>1</td>\n",
       "    </tr>\n",
       "    <tr>\n",
       "      <th>383</th>\n",
       "      <td>101</td>\n",
       "      <td>Half-Life</td>\n",
       "      <td>78617643</td>\n",
       "      <td>english</td>\n",
       "      <td>fun</td>\n",
       "      <td>True</td>\n",
       "      <td>0</td>\n",
       "      <td>True</td>\n",
       "      <td>10961</td>\n",
       "      <td>56</td>\n",
       "      <td>19</td>\n",
       "      <td>915.0</td>\n",
       "      <td>0.0</td>\n",
       "      <td>297.0</td>\n",
       "      <td>1.605903e+09</td>\n",
       "      <td>1</td>\n",
       "    </tr>\n",
       "  </tbody>\n",
       "</table>\n",
       "</div>"
      ],
      "text/plain": [
       "     itemId   itemName  reviewId language  \\\n",
       "379     101  Half-Life  84840205  turkish   \n",
       "380     101  Half-Life  84803254  english   \n",
       "381     101  Half-Life  83553107   german   \n",
       "382     101  Half-Life  83546336  turkish   \n",
       "383     101  Half-Life  78617643  english   \n",
       "\n",
       "                                                review  recommended  \\\n",
       "379                     D-dostum torent kullanma ve al         True   \n",
       "380                                   its pretty good.         True   \n",
       "381  Immer noch ein absolut geniales Spiel. Die Ste...         True   \n",
       "382        bu oyunu unlost izledikten sonra alanlar :D         True   \n",
       "383                                                fun         True   \n",
       "\n",
       "     commentCount  steamPurchase  userId  userGames  userReviews  \\\n",
       "379             0           True       0         26            2   \n",
       "380             0           True    3649         11            5   \n",
       "381             0           True       2         15            1   \n",
       "382             0           True    5658          6            4   \n",
       "383             0           True   10961         56           19   \n",
       "\n",
       "     userPlaytimeForever  userPlaytimeLastTwoWeeks  userPlaytimeAtReview  \\\n",
       "379                 79.0                       0.0                  79.0   \n",
       "380                564.0                       9.0                 555.0   \n",
       "381                329.0                       0.0                 329.0   \n",
       "382                650.0                      69.0                 319.0   \n",
       "383                915.0                       0.0                 297.0   \n",
       "\n",
       "     userLastPlayed  rating  \n",
       "379    1.592832e+09       1  \n",
       "380    1.610943e+09       1  \n",
       "381    1.608773e+09       1  \n",
       "382    1.610887e+09       1  \n",
       "383    1.605903e+09       1  "
      ]
     },
     "execution_count": 9,
     "metadata": {},
     "output_type": "execute_result"
    }
   ],
   "source": [
    "# Bases após o tratamento\n",
    "review.head()"
   ]
  },
  {
   "cell_type": "code",
   "execution_count": 10,
   "metadata": {},
   "outputs": [
    {
     "data": {
      "text/html": [
       "<div>\n",
       "<style scoped>\n",
       "    .dataframe tbody tr th:only-of-type {\n",
       "        vertical-align: middle;\n",
       "    }\n",
       "\n",
       "    .dataframe tbody tr th {\n",
       "        vertical-align: top;\n",
       "    }\n",
       "\n",
       "    .dataframe thead th {\n",
       "        text-align: right;\n",
       "    }\n",
       "</style>\n",
       "<table border=\"1\" class=\"dataframe\">\n",
       "  <thead>\n",
       "    <tr style=\"text-align: right;\">\n",
       "      <th></th>\n",
       "      <th>itemId</th>\n",
       "      <th>itemName</th>\n",
       "      <th>release_date</th>\n",
       "      <th>english</th>\n",
       "      <th>developer</th>\n",
       "      <th>publisher</th>\n",
       "      <th>platforms</th>\n",
       "      <th>required_age</th>\n",
       "      <th>categories</th>\n",
       "      <th>steamspy_tags</th>\n",
       "      <th>achievements</th>\n",
       "      <th>positive_ratings</th>\n",
       "      <th>negative_ratings</th>\n",
       "      <th>average_playtime</th>\n",
       "      <th>median_playtime</th>\n",
       "      <th>owners</th>\n",
       "      <th>price</th>\n",
       "      <th>genre</th>\n",
       "    </tr>\n",
       "  </thead>\n",
       "  <tbody>\n",
       "    <tr>\n",
       "      <th>6</th>\n",
       "      <td>101</td>\n",
       "      <td>Half-Life</td>\n",
       "      <td>1998-11-08</td>\n",
       "      <td>1</td>\n",
       "      <td>Valve</td>\n",
       "      <td>Valve</td>\n",
       "      <td>windows;mac;linux</td>\n",
       "      <td>0</td>\n",
       "      <td>Single-player;Multi-player;Online Multi-Player...</td>\n",
       "      <td>FPS;Classic;Action</td>\n",
       "      <td>0</td>\n",
       "      <td>27755</td>\n",
       "      <td>1100</td>\n",
       "      <td>1300</td>\n",
       "      <td>83</td>\n",
       "      <td>5000000-10000000</td>\n",
       "      <td>7.19</td>\n",
       "      <td>Action</td>\n",
       "    </tr>\n",
       "    <tr>\n",
       "      <th>10</th>\n",
       "      <td>208</td>\n",
       "      <td>Counter-Strike: Source</td>\n",
       "      <td>2004-11-01</td>\n",
       "      <td>1</td>\n",
       "      <td>Valve</td>\n",
       "      <td>Valve</td>\n",
       "      <td>windows;mac;linux</td>\n",
       "      <td>0</td>\n",
       "      <td>Multi-player;Cross-Platform Multiplayer;Steam ...</td>\n",
       "      <td>Action;FPS;Multiplayer</td>\n",
       "      <td>147</td>\n",
       "      <td>76640</td>\n",
       "      <td>3497</td>\n",
       "      <td>6842</td>\n",
       "      <td>400</td>\n",
       "      <td>10000000-20000000</td>\n",
       "      <td>7.19</td>\n",
       "      <td>Action</td>\n",
       "    </tr>\n",
       "    <tr>\n",
       "      <th>18</th>\n",
       "      <td>114</td>\n",
       "      <td>Half-Life 2: Episode Two</td>\n",
       "      <td>2007-10-10</td>\n",
       "      <td>1</td>\n",
       "      <td>Valve</td>\n",
       "      <td>Valve</td>\n",
       "      <td>windows;mac;linux</td>\n",
       "      <td>0</td>\n",
       "      <td>Single-player;Steam Achievements;Captions avai...</td>\n",
       "      <td>FPS;Action;Sci-fi</td>\n",
       "      <td>22</td>\n",
       "      <td>13902</td>\n",
       "      <td>696</td>\n",
       "      <td>354</td>\n",
       "      <td>301</td>\n",
       "      <td>5000000-10000000</td>\n",
       "      <td>5.79</td>\n",
       "      <td>Action</td>\n",
       "    </tr>\n",
       "    <tr>\n",
       "      <th>23</th>\n",
       "      <td>210</td>\n",
       "      <td>Portal 2</td>\n",
       "      <td>2011-04-18</td>\n",
       "      <td>1</td>\n",
       "      <td>Valve</td>\n",
       "      <td>Valve</td>\n",
       "      <td>windows;mac;linux</td>\n",
       "      <td>0</td>\n",
       "      <td>Single-player;Co-op;Steam Achievements;Full co...</td>\n",
       "      <td>Puzzle;Co-op;First-Person</td>\n",
       "      <td>51</td>\n",
       "      <td>138220</td>\n",
       "      <td>1891</td>\n",
       "      <td>1102</td>\n",
       "      <td>520</td>\n",
       "      <td>10000000-20000000</td>\n",
       "      <td>7.19</td>\n",
       "      <td>Action</td>\n",
       "    </tr>\n",
       "    <tr>\n",
       "      <th>23</th>\n",
       "      <td>210</td>\n",
       "      <td>Portal 2</td>\n",
       "      <td>2011-04-18</td>\n",
       "      <td>1</td>\n",
       "      <td>Valve</td>\n",
       "      <td>Valve</td>\n",
       "      <td>windows;mac;linux</td>\n",
       "      <td>0</td>\n",
       "      <td>Single-player;Co-op;Steam Achievements;Full co...</td>\n",
       "      <td>Puzzle;Co-op;First-Person</td>\n",
       "      <td>51</td>\n",
       "      <td>138220</td>\n",
       "      <td>1891</td>\n",
       "      <td>1102</td>\n",
       "      <td>520</td>\n",
       "      <td>10000000-20000000</td>\n",
       "      <td>7.19</td>\n",
       "      <td>Adventure</td>\n",
       "    </tr>\n",
       "  </tbody>\n",
       "</table>\n",
       "</div>"
      ],
      "text/plain": [
       "    itemId                  itemName release_date  english developer  \\\n",
       "6      101                 Half-Life   1998-11-08        1     Valve   \n",
       "10     208    Counter-Strike: Source   2004-11-01        1     Valve   \n",
       "18     114  Half-Life 2: Episode Two   2007-10-10        1     Valve   \n",
       "23     210                  Portal 2   2011-04-18        1     Valve   \n",
       "23     210                  Portal 2   2011-04-18        1     Valve   \n",
       "\n",
       "   publisher          platforms  required_age  \\\n",
       "6      Valve  windows;mac;linux             0   \n",
       "10     Valve  windows;mac;linux             0   \n",
       "18     Valve  windows;mac;linux             0   \n",
       "23     Valve  windows;mac;linux             0   \n",
       "23     Valve  windows;mac;linux             0   \n",
       "\n",
       "                                           categories  \\\n",
       "6   Single-player;Multi-player;Online Multi-Player...   \n",
       "10  Multi-player;Cross-Platform Multiplayer;Steam ...   \n",
       "18  Single-player;Steam Achievements;Captions avai...   \n",
       "23  Single-player;Co-op;Steam Achievements;Full co...   \n",
       "23  Single-player;Co-op;Steam Achievements;Full co...   \n",
       "\n",
       "                steamspy_tags  achievements  positive_ratings  \\\n",
       "6          FPS;Classic;Action             0             27755   \n",
       "10     Action;FPS;Multiplayer           147             76640   \n",
       "18          FPS;Action;Sci-fi            22             13902   \n",
       "23  Puzzle;Co-op;First-Person            51            138220   \n",
       "23  Puzzle;Co-op;First-Person            51            138220   \n",
       "\n",
       "    negative_ratings  average_playtime  median_playtime             owners  \\\n",
       "6               1100              1300               83   5000000-10000000   \n",
       "10              3497              6842              400  10000000-20000000   \n",
       "18               696               354              301   5000000-10000000   \n",
       "23              1891              1102              520  10000000-20000000   \n",
       "23              1891              1102              520  10000000-20000000   \n",
       "\n",
       "    price      genre  \n",
       "6    7.19     Action  \n",
       "10   7.19     Action  \n",
       "18   5.79     Action  \n",
       "23   7.19     Action  \n",
       "23   7.19  Adventure  "
      ]
     },
     "execution_count": 10,
     "metadata": {},
     "output_type": "execute_result"
    }
   ],
   "source": [
    "metadados.head()"
   ]
  },
  {
   "cell_type": "markdown",
   "metadata": {},
   "source": [
    "## Recomendadores"
   ]
  },
  {
   "cell_type": "markdown",
   "metadata": {},
   "source": [
    "### Hold-Out\n",
    "\n",
    "Para que o sistema não apresente resultados enviezados, separamos a base em um conjunto de treinamento e um conjunto de teste. Assim, é possível treinar o modelo com o recomendador e avaliá-lo através do teste."
   ]
  },
  {
   "cell_type": "code",
   "execution_count": 11,
   "metadata": {},
   "outputs": [],
   "source": [
    "train, test = train_test_split(review, test_size=.2, random_state=2)"
   ]
  },
  {
   "cell_type": "markdown",
   "metadata": {},
   "source": [
    "### Avaliação\n",
    "\n",
    "Abaixo estão implementadas algumas funções de métricas para realizarmos a avaliação offline dos recomendadores."
   ]
  },
  {
   "cell_type": "code",
   "execution_count": 12,
   "metadata": {},
   "outputs": [],
   "source": [
    "# Calcula o RMSE para um usuário\n",
    "def rmse_user(preds, ratings):\n",
    "    if len(preds) != len(ratings):\n",
    "        return -1\n",
    "\n",
    "    sum = 0\n",
    "    for i in range(len(preds)):\n",
    "        sum += pow(preds[i] - ratings[i], 2)\n",
    "        \n",
    "    return np.sqrt(sum/len(preds))"
   ]
  },
  {
   "cell_type": "code",
   "execution_count": 13,
   "metadata": {},
   "outputs": [],
   "source": [
    "# Calcula a métrica Average Precision (AP)\n",
    "def average_precision(recommended_items, relevant_items, limiar):\n",
    "    index = score = hit = 0\n",
    "\n",
    "    while index < len(recommended_items) and hit < limiar:\n",
    "        if recommended_items[index] in relevant_items:\n",
    "            hit += 1\n",
    "            score += hit / (index + 1)\n",
    "        index += 1\n",
    "\n",
    "    return score / hit if hit > 0 else 0\n",
    "\n",
    "# Calcula o métrica Mean Average Precision (MAP)\n",
    "def MAP(result, ground_truth, limiar=np.inf):\n",
    "    commom_user = list(set(result['userId']) & set(ground_truth['userId']))\n",
    "    score = 0\n",
    "\n",
    "    for user in commom_user:\n",
    "        recommended_items = result.loc[result.userId == user, 'itemId'].tolist()\n",
    "        user_relevant_items = ground_truth.loc[ground_truth.userId == user, 'itemId'].tolist()\n",
    "        score += average_precision(recommended_items, user_relevant_items, limiar)\n",
    "\n",
    "    return score / len(commom_user)"
   ]
  },
  {
   "cell_type": "code",
   "execution_count": 14,
   "metadata": {},
   "outputs": [],
   "source": [
    "# Calcula ILS - métrica de diversidade\n",
    "def ILS_diversity(recommended_games, similarity_games):\n",
    "    ils = 0\n",
    "    \n",
    "    for game1 in recommended_games:\n",
    "        for game2 in recommended_games:\n",
    "            if game1 != game2:\n",
    "                first = game1 if game1 < game2 else game2\n",
    "                second = game1 if game1 > game2 else game2\n",
    "                similarity = similarity_games.loc[(similarity_games[\"Game 1\"] == first) & (similarity_games[\"Game 2\"] == second), \"Similarity\"].values[0]\n",
    "                ils += similarity\n",
    "    \n",
    "    return ils / 2\n",
    "\n",
    "# Calcula a métrica de diversidade para todos os usuários\n",
    "def mean_ILS(recommendations, similarity_games):\n",
    "    all_users = recommendations['userId'].unique().tolist()\n",
    "\n",
    "    total_ils = 0\n",
    "    for user in all_users:\n",
    "        recommended_items = recommendations.loc[(recommendations.userId == user)].sort_values(by=\"score\", ascending=False)[:10][\"itemId\"].tolist()\n",
    "        total_ils += ILS_diversity(recommended_items, similarity_games)\n",
    "    \n",
    "    return total_ils / len(all_users)"
   ]
  },
  {
   "cell_type": "markdown",
   "metadata": {},
   "source": [
    "## Pointwise"
   ]
  },
  {
   "cell_type": "markdown",
   "metadata": {},
   "source": [
    "### Optimized SVD (Filtragem Colaborativa Baseada em Modelo)\n"
   ]
  },
  {
   "cell_type": "code",
   "execution_count": 15,
   "metadata": {},
   "outputs": [],
   "source": [
    "# Treino do modelo SVD Otimizado\n",
    "def train_svdopt(train, n_factors, lr=0.05, reg=0.02, miter=10):\n",
    "    global_mean = train['rating'].mean()\n",
    "    n_users = review['userId'].max()+1\n",
    "    n_items = review['itemId'].max()+1\n",
    "    bu = np.zeros(n_users)\n",
    "    bi = np.zeros(n_items)\n",
    "    p = np.random.normal(0.1, 0.1, (n_users, n_factors))\n",
    "    q = np.random.normal(0.1, 0.1, (n_items, n_factors))\n",
    "    error = []\n",
    "\n",
    "    for t in range(miter):\n",
    "        sq_error = 0\n",
    "        for index, row in train.iterrows():\n",
    "            u = row['userId']\n",
    "            i = row['itemId']\n",
    "            r_ui = row['rating']\n",
    "            pred = global_mean + bu[u] + bi[i] + np.dot(p[u], q[i])\n",
    "            e_ui = r_ui - pred\n",
    "            sq_error = sq_error + pow(e_ui, 2)\n",
    "            bu[u] = bu[u] + lr * e_ui\n",
    "            bi[i] = bi[i] + lr * e_ui\n",
    "\n",
    "            for f in range(n_factors):\n",
    "                temp_uf = p[u][f]\n",
    "                p[u][f] = p[u][f] + lr * (e_ui * q[i][f] - reg * p[u][f])\n",
    "                q[i][f] = q[i][f] + lr * (e_ui * temp_uf - reg * q[i][f])\n",
    "        \n",
    "        error.append(sqrt(sq_error/len(train)))\n",
    "\n",
    "    return global_mean, bu, bi, p, q, error"
   ]
  },
  {
   "cell_type": "code",
   "execution_count": 16,
   "metadata": {},
   "outputs": [],
   "source": [
    "# Coletando parâmetros calculados\n",
    "n_factors = 5\n",
    "gl, bu, bi, p, q, error = train_svdopt(train, n_factors, miter=30)"
   ]
  },
  {
   "cell_type": "code",
   "execution_count": 17,
   "metadata": {},
   "outputs": [],
   "source": [
    "# Aplicando modelo no conjunto de teste e recuperando predições\n",
    "rmse_users = []\n",
    "all_users = test[\"userId\"].unique().tolist()\n",
    "\n",
    "for user in all_users:\n",
    "    items = test.loc[(test.userId == user), \"itemId\"].tolist()\n",
    "    predictions_user = []\n",
    "    real_ratings = []\n",
    "    \n",
    "    # Calculando predições e notas reais\n",
    "    for item in items:\n",
    "        real_ratings.append(test.loc[(test.userId == user) & (test.itemId == item), 'rating'].values[0])\n",
    "        predictions_user.append(gl + bu[user] + bi[item] + np.dot(p[user], q[item]))\n",
    "    \n",
    "    # Calculando RMSE do usuário\n",
    "    rmse_users.append(rmse_user(predictions_user, real_ratings))"
   ]
  },
  {
   "cell_type": "code",
   "execution_count": 18,
   "metadata": {},
   "outputs": [
    {
     "name": "stdout",
     "output_type": "stream",
     "text": [
      "0.2135860583355554\n"
     ]
    }
   ],
   "source": [
    "# RMSE\n",
    "mean_rmse = np.sum(rmse_users) / len(rmse_users)\n",
    "print(mean_rmse)"
   ]
  },
  {
   "cell_type": "code",
   "execution_count": 19,
   "metadata": {},
   "outputs": [
    {
     "data": {
      "image/png": "[encoded data removed]",
      "text/plain": [
       "<Figure size 640x480 with 1 Axes>"
      ]
     },
     "metadata": {},
     "output_type": "display_data"
    }
   ],
   "source": [
    "plt.plot(error)\n",
    "plt.show()"
   ]
  },
  {
   "cell_type": "code",
   "execution_count": 20,
   "metadata": {},
   "outputs": [],
   "source": [
    "users = []\n",
    "items = []\n",
    "score = []\n",
    "\n",
    "for user in test.userId.unique():\n",
    "    for item in test.itemId.unique():\n",
    "        users.append(user)\n",
    "        items.append(item)\n",
    "        score.append(gl + bu[user] + bi[item] + np.dot(p[user], q[item]))"
   ]
  },
  {
   "cell_type": "code",
   "execution_count": 21,
   "metadata": {},
   "outputs": [
    {
     "data": {
      "text/plain": [
       "0    0.065371\n",
       "1    0.062340\n",
       "2    0.062200\n",
       "3    0.062188\n",
       "dtype: float64"
      ]
     },
     "execution_count": 21,
     "metadata": {},
     "output_type": "execute_result"
    }
   ],
   "source": [
    "# Calculando MAP do SVD Otimizado\n",
    "result_svd = pd.DataFrame({\n",
    "    'userId':users, \n",
    "    'itemId':items, \n",
    "    'score':score\n",
    "    })\n",
    "\n",
    "map_svd = pd.Series([\n",
    "    MAP(result_svd, test, 1), \n",
    "    MAP(result_svd, test, 3), \n",
    "    MAP(result_svd, test, 5), \n",
    "    MAP(result_svd, test, 10),\n",
    "    ])\n",
    "\n",
    "map_svd"
   ]
  },
  {
   "cell_type": "markdown",
   "metadata": {},
   "source": [
    "### Filtragem Baseada em Conteúdo"
   ]
  },
  {
   "cell_type": "markdown",
   "metadata": {},
   "source": [
    "Como exemplo de algoritmo para Filtragem Baseada em Conteúdo, utilizaremos o **ItemAttributeKNN**, já implementado pela biblioteca CaseRecommender. Primeiramente, testaremos com o cálculo de similaridade da própria biblioteca."
   ]
  },
  {
   "cell_type": "code",
   "execution_count": 22,
   "metadata": {},
   "outputs": [],
   "source": [
    "# Gerando arquivo com metadados\n",
    "metadados[['itemId', 'genre']].to_csv('meta_genres.dat', index=False, sep='\\t', header=False)\n",
    "train[['userId', 'itemId', 'rating']].to_csv('train.dat', index=False, header=False, sep='\\t')\n",
    "test[['userId', 'itemId', 'rating']].to_csv('test.dat', index=False, header=False, sep='\\t')"
   ]
  },
  {
   "cell_type": "code",
   "execution_count": 23,
   "metadata": {},
   "outputs": [
    {
     "name": "stdout",
     "output_type": "stream",
     "text": [
      "[Case Recommender: Item Recommendation > Item Attribute KNN Algorithm]\n",
      "\n",
      "train data:: 7031 users and 215 items (10596 interactions) | sparsity:: 99.30%\n",
      "test data:: 2270 users and 182 items (2650 interactions) | sparsity:: 99.36%\n",
      "\n",
      "training_time:: 0.033941 sec\n",
      ">> metadata:: 216 items and 19 metadata (557 interactions) | sparsity:: 86.43%\n",
      "prediction_time:: 10.944772 sec\n",
      "\n",
      "\n",
      "Eval:: PREC@1: 0.004846 PREC@3: 0.004846 PREC@5: 0.004405 PREC@10: 0.004846 RECALL@1: 0.003304 RECALL@3: 0.010808 RECALL@5: 0.016021 RECALL@10: 0.037203 MAP@1: 0.004846 MAP@3: 0.008737 MAP@5: 0.010301 MAP@10: 0.013817 NDCG@1: 0.004846 NDCG@3: 0.012424 NDCG@5: 0.015563 NDCG@10: 0.024538 \n"
     ]
    }
   ],
   "source": [
    "# Utilizando Algoritmo ItemAttributeKNN com similaridade calculada internamente\n",
    "ItemAttributeKNN('train.dat', 'test.dat', output_file='result_IAKNN.dat', metadata_file='meta_genres.dat', as_similar_first=True).compute()"
   ]
  },
  {
   "cell_type": "code",
   "execution_count": 24,
   "metadata": {},
   "outputs": [
    {
     "data": {
      "text/html": [
       "<div>\n",
       "<style scoped>\n",
       "    .dataframe tbody tr th:only-of-type {\n",
       "        vertical-align: middle;\n",
       "    }\n",
       "\n",
       "    .dataframe tbody tr th {\n",
       "        vertical-align: top;\n",
       "    }\n",
       "\n",
       "    .dataframe thead th {\n",
       "        text-align: right;\n",
       "    }\n",
       "</style>\n",
       "<table border=\"1\" class=\"dataframe\">\n",
       "  <thead>\n",
       "    <tr style=\"text-align: right;\">\n",
       "      <th></th>\n",
       "      <th>userId</th>\n",
       "      <th>itemId</th>\n",
       "      <th>score</th>\n",
       "    </tr>\n",
       "  </thead>\n",
       "  <tbody>\n",
       "    <tr>\n",
       "      <th>0</th>\n",
       "      <td>0</td>\n",
       "      <td>12</td>\n",
       "      <td>1.0</td>\n",
       "    </tr>\n",
       "    <tr>\n",
       "      <th>1</th>\n",
       "      <td>0</td>\n",
       "      <td>13</td>\n",
       "      <td>1.0</td>\n",
       "    </tr>\n",
       "    <tr>\n",
       "      <th>2</th>\n",
       "      <td>0</td>\n",
       "      <td>31</td>\n",
       "      <td>1.0</td>\n",
       "    </tr>\n",
       "    <tr>\n",
       "      <th>3</th>\n",
       "      <td>0</td>\n",
       "      <td>58</td>\n",
       "      <td>1.0</td>\n",
       "    </tr>\n",
       "    <tr>\n",
       "      <th>4</th>\n",
       "      <td>0</td>\n",
       "      <td>65</td>\n",
       "      <td>1.0</td>\n",
       "    </tr>\n",
       "  </tbody>\n",
       "</table>\n",
       "</div>"
      ],
      "text/plain": [
       "   userId  itemId  score\n",
       "0       0      12    1.0\n",
       "1       0      13    1.0\n",
       "2       0      31    1.0\n",
       "3       0      58    1.0\n",
       "4       0      65    1.0"
      ]
     },
     "execution_count": 24,
     "metadata": {},
     "output_type": "execute_result"
    }
   ],
   "source": [
    "result_IAKNN = pd.read_csv('result_IAKNN.dat', sep='\\t', names=['userId', 'itemId', 'score'])\n",
    "result_IAKNN.head()"
   ]
  },
  {
   "cell_type": "code",
   "execution_count": 25,
   "metadata": {},
   "outputs": [
    {
     "data": {
      "text/plain": [
       "0    0.029418\n",
       "1    0.029394\n",
       "2    0.029394\n",
       "3    0.029394\n",
       "dtype: float64"
      ]
     },
     "execution_count": 25,
     "metadata": {},
     "output_type": "execute_result"
    }
   ],
   "source": [
    "# Calculando MAP da Filtragem Baseada em Conteúdo\n",
    "map_IAKNN = pd.Series([\n",
    "    MAP(result_IAKNN, test, 1),\n",
    "    MAP(result_IAKNN, test, 3), \n",
    "    MAP(result_IAKNN, test, 5), \n",
    "    MAP(result_IAKNN, test, 10),\n",
    "    ])\n",
    "\n",
    "map_IAKNN"
   ]
  },
  {
   "cell_type": "markdown",
   "metadata": {},
   "source": [
    "Aplicando a similaridade de cosseno com os atributos **Categoria** e **Genêro** do jogo, salvaremos o resultado em um arquivo de similaridade. Esse arquivo será passado como argumento para a biblioteca CaseRecommender. "
   ]
  },
  {
   "cell_type": "code",
   "execution_count": 26,
   "metadata": {},
   "outputs": [],
   "source": [
    "# Separando categorias e gêneros de cada jogo\n",
    "dummies_categorie = pd.get_dummies(metadados[['itemId', 'categories']], columns=['categories'])\n",
    "dummies_genre = pd.get_dummies(metadados[['itemId', 'genre']], columns=['genre'])\n",
    "all_items = metadados.itemId.unique()\n",
    "\n",
    "# Calculando a similaridade por cosseno utilizando a categoria e gênero do jogo\n",
    "similarity = []\n",
    "for item1 in all_items:\n",
    "    for item2 in all_items:\n",
    "        if item1 < item2:\n",
    "            category_sim = cosine_similarity([dummies_categorie.loc[dummies_categorie.itemId == item1].sum()[1:].values], [dummies_categorie.loc[dummies_categorie.itemId == item2].sum()[1:].values])[0]\n",
    "            genre_sim = cosine_similarity([dummies_genre.loc[dummies_genre.itemId == item1].sum()[1:].values], [dummies_genre.loc[dummies_genre.itemId == item2].sum()[1:].values])[0]\n",
    "            similarity.append([item1, item2, (category_sim + genre_sim)/ 2]) # média simples entre as duas similaridades\n",
    "\n",
    "# Salvando similaridades no arquivo\n",
    "with open('sim_games.dat', 'w') as arq_sim:\n",
    "  for i in similarity:\n",
    "    arq_sim.write(str(i[0]) + '\\t' + str(i[1]) + '\\t' + str(i[2][0]) + '\\n')"
   ]
  },
  {
   "cell_type": "code",
   "execution_count": 27,
   "metadata": {},
   "outputs": [
    {
     "name": "stdout",
     "output_type": "stream",
     "text": [
      "[Case Recommender: Item Recommendation > Item Attribute KNN Algorithm]\n",
      "\n",
      "train data:: 7031 users and 215 items (10596 interactions) | sparsity:: 99.30%\n",
      "test data:: 2270 users and 182 items (2650 interactions) | sparsity:: 99.36%\n",
      "\n",
      "training_time:: 0.115693 sec\n",
      "prediction_time:: 9.728204 sec\n",
      "\n",
      "\n",
      "Eval:: PREC@1: 0.003084 PREC@3: 0.003524 PREC@5: 0.003084 PREC@10: 0.003392 RECALL@1: 0.002093 RECALL@3: 0.007966 RECALL@5: 0.01149 RECALL@10: 0.025147 MAP@1: 0.003084 MAP@3: 0.005874 MAP@5: 0.006953 MAP@10: 0.009327 NDCG@1: 0.003084 NDCG@3: 0.008459 NDCG@5: 0.010699 NDCG@10: 0.016944 \n"
     ]
    }
   ],
   "source": [
    "# Utilizando Algoritmo ItemAttributeKNN com similaridade de cosseno calculada através do gênero + categoria\n",
    "ItemAttributeKNN('train.dat', 'test.dat', output_file='recs_iaknn_cos.dat',\n",
    "                 similarity_file='sim_games.dat', as_similar_first=True).compute()"
   ]
  },
  {
   "cell_type": "code",
   "execution_count": 28,
   "metadata": {},
   "outputs": [
    {
     "data": {
      "text/html": [
       "<div>\n",
       "<style scoped>\n",
       "    .dataframe tbody tr th:only-of-type {\n",
       "        vertical-align: middle;\n",
       "    }\n",
       "\n",
       "    .dataframe tbody tr th {\n",
       "        vertical-align: top;\n",
       "    }\n",
       "\n",
       "    .dataframe thead th {\n",
       "        text-align: right;\n",
       "    }\n",
       "</style>\n",
       "<table border=\"1\" class=\"dataframe\">\n",
       "  <thead>\n",
       "    <tr style=\"text-align: right;\">\n",
       "      <th></th>\n",
       "      <th>userId</th>\n",
       "      <th>itemId</th>\n",
       "      <th>score</th>\n",
       "    </tr>\n",
       "  </thead>\n",
       "  <tbody>\n",
       "    <tr>\n",
       "      <th>0</th>\n",
       "      <td>0</td>\n",
       "      <td>12</td>\n",
       "      <td>0.5</td>\n",
       "    </tr>\n",
       "    <tr>\n",
       "      <th>1</th>\n",
       "      <td>0</td>\n",
       "      <td>13</td>\n",
       "      <td>0.5</td>\n",
       "    </tr>\n",
       "    <tr>\n",
       "      <th>2</th>\n",
       "      <td>0</td>\n",
       "      <td>31</td>\n",
       "      <td>0.5</td>\n",
       "    </tr>\n",
       "    <tr>\n",
       "      <th>3</th>\n",
       "      <td>0</td>\n",
       "      <td>58</td>\n",
       "      <td>0.5</td>\n",
       "    </tr>\n",
       "    <tr>\n",
       "      <th>4</th>\n",
       "      <td>0</td>\n",
       "      <td>65</td>\n",
       "      <td>0.5</td>\n",
       "    </tr>\n",
       "  </tbody>\n",
       "</table>\n",
       "</div>"
      ],
      "text/plain": [
       "   userId  itemId  score\n",
       "0       0      12    0.5\n",
       "1       0      13    0.5\n",
       "2       0      31    0.5\n",
       "3       0      58    0.5\n",
       "4       0      65    0.5"
      ]
     },
     "execution_count": 28,
     "metadata": {},
     "output_type": "execute_result"
    }
   ],
   "source": [
    "# Lendo arquivo de similaridade\n",
    "result_IAKNN_sim = pd.read_csv('recs_iaknn_cos.dat', sep='\\t', names=['userId', 'itemId', 'score'])\n",
    "result_IAKNN_sim.head()"
   ]
  },
  {
   "cell_type": "code",
   "execution_count": 29,
   "metadata": {},
   "outputs": [
    {
     "data": {
      "text/plain": [
       "0    0.019842\n",
       "1    0.019842\n",
       "2    0.019842\n",
       "3    0.019842\n",
       "dtype: float64"
      ]
     },
     "execution_count": 29,
     "metadata": {},
     "output_type": "execute_result"
    }
   ],
   "source": [
    "# Calculando MAP\n",
    "map_IAKNN_sim = pd.Series([\n",
    "    MAP(result_IAKNN_sim, test, 1),\n",
    "    MAP(result_IAKNN_sim, test, 3), \n",
    "    MAP(result_IAKNN_sim, test, 5), \n",
    "    MAP(result_IAKNN_sim, test, 10),\n",
    "    ])\n",
    "map_IAKNN_sim"
   ]
  },
  {
   "cell_type": "markdown",
   "metadata": {},
   "source": [
    "## Pairwise"
   ]
  },
  {
   "cell_type": "markdown",
   "metadata": {},
   "source": [
    "Utilizando o algoritmo BPR como exemplo de Pairwise, testaremos sua implementação da biblioteca CaseRecommender com diferentes números de fatores: 5, 15 e 30."
   ]
  },
  {
   "cell_type": "markdown",
   "metadata": {},
   "source": [
    "### BPRMF - 5 Fatores"
   ]
  },
  {
   "cell_type": "code",
   "execution_count": 30,
   "metadata": {},
   "outputs": [
    {
     "name": "stdout",
     "output_type": "stream",
     "text": [
      "[Case Recommender: Item Recommendation > BPRMF]\n",
      "\n",
      "train data:: 7031 users and 215 items (10596 interactions) | sparsity:: 99.30%\n",
      "test data:: 2270 users and 182 items (2650 interactions) | sparsity:: 99.36%\n",
      "\n",
      "training_time:: 8.012239 sec\n",
      "prediction_time:: 0.953385 sec\n",
      "\n",
      "\n",
      "Eval:: PREC@1: 0.043612 PREC@3: 0.03069 PREC@5: 0.024405 PREC@10: 0.021322 RECALL@1: 0.034372 RECALL@3: 0.072104 RECALL@5: 0.096259 RECALL@10: 0.166733 MAP@1: 0.043612 MAP@3: 0.062812 MAP@5: 0.068168 MAP@10: 0.077025 NDCG@1: 0.043612 NDCG@3: 0.081345 NDCG@5: 0.092474 NDCG@10: 0.116689 \n"
     ]
    }
   ],
   "source": [
    "from caserec.recommenders.item_recommendation.bprmf import BprMF\n",
    "\n",
    "# Algoritmo BPRMF com 5 fatores\n",
    "BprMF('train.dat', 'test.dat', 'result_BPRMF_5.dat', factors=5).compute()"
   ]
  },
  {
   "cell_type": "code",
   "execution_count": 31,
   "metadata": {},
   "outputs": [
    {
     "data": {
      "text/plain": [
       "0    0.168172\n",
       "1    0.163876\n",
       "2    0.163872\n",
       "3    0.163868\n",
       "dtype: float64"
      ]
     },
     "execution_count": 31,
     "metadata": {},
     "output_type": "execute_result"
    }
   ],
   "source": [
    "# Calculando MAP de BPRMF para 5 fatores\n",
    "result_BPRMF_5 = pd.read_csv('result_BPRMF_5.dat', sep='\\t', names=['userId', 'itemId', 'score'])\n",
    "\n",
    "map_BPRMF_5 = pd.Series([\n",
    "    MAP(result_BPRMF_5, test, 1),\n",
    "    MAP(result_BPRMF_5, test, 3), \n",
    "    MAP(result_BPRMF_5, test, 5), \n",
    "    MAP(result_BPRMF_5, test, 10),\n",
    "    ])\n",
    "    \n",
    "map_BPRMF_5"
   ]
  },
  {
   "cell_type": "markdown",
   "metadata": {},
   "source": [
    "### BPRMF - 15 Fatores"
   ]
  },
  {
   "cell_type": "code",
   "execution_count": 32,
   "metadata": {},
   "outputs": [
    {
     "name": "stdout",
     "output_type": "stream",
     "text": [
      "[Case Recommender: Item Recommendation > BPRMF]\n",
      "\n",
      "train data:: 7031 users and 215 items (10596 interactions) | sparsity:: 99.30%\n",
      "test data:: 2270 users and 182 items (2650 interactions) | sparsity:: 99.36%\n",
      "\n",
      "training_time:: 7.731400 sec\n",
      "prediction_time:: 1.050777 sec\n",
      "\n",
      "\n",
      "Eval:: PREC@1: 0.039648 PREC@3: 0.029075 PREC@5: 0.026256 PREC@10: 0.020881 RECALL@1: 0.031751 RECALL@3: 0.072258 RECALL@5: 0.105973 RECALL@10: 0.165452 MAP@1: 0.039648 MAP@3: 0.060646 MAP@5: 0.069086 MAP@10: 0.076893 NDCG@1: 0.039648 NDCG@3: 0.081094 NDCG@5: 0.098403 NDCG@10: 0.120097 \n"
     ]
    }
   ],
   "source": [
    "# Algoritmo BPRMF com 15 fatores\n",
    "BprMF('train.dat', 'test.dat', 'result_BPRMF_15.dat', factors=15).compute()"
   ]
  },
  {
   "cell_type": "code",
   "execution_count": 33,
   "metadata": {},
   "outputs": [
    {
     "data": {
      "text/plain": [
       "0    0.166845\n",
       "1    0.163621\n",
       "2    0.163588\n",
       "3    0.163588\n",
       "dtype: float64"
      ]
     },
     "execution_count": 33,
     "metadata": {},
     "output_type": "execute_result"
    }
   ],
   "source": [
    "# Calculando MAP de BPRMF para 15 fatores\n",
    "result_BPRMF_15 = pd.read_csv('result_BPRMF_15.dat', sep='\\t', names=['userId', 'itemId', 'score'])\n",
    "\n",
    "map_BPRMF_15 = pd.Series([\n",
    "    MAP(result_BPRMF_15, test, 1),\n",
    "    MAP(result_BPRMF_15, test, 3), \n",
    "    MAP(result_BPRMF_15, test, 5), \n",
    "    MAP(result_BPRMF_15, test, 10),\n",
    "    ])\n",
    "    \n",
    "map_BPRMF_15"
   ]
  },
  {
   "cell_type": "markdown",
   "metadata": {},
   "source": [
    "### BPRMF - 30 Fatores"
   ]
  },
  {
   "cell_type": "code",
   "execution_count": 34,
   "metadata": {},
   "outputs": [
    {
     "name": "stdout",
     "output_type": "stream",
     "text": [
      "[Case Recommender: Item Recommendation > BPRMF]\n",
      "\n",
      "train data:: 7031 users and 215 items (10596 interactions) | sparsity:: 99.30%\n",
      "test data:: 2270 users and 182 items (2650 interactions) | sparsity:: 99.36%\n",
      "\n",
      "training_time:: 7.854748 sec\n",
      "prediction_time:: 1.033998 sec\n",
      "\n",
      "\n",
      "Eval:: PREC@1: 0.040088 PREC@3: 0.032893 PREC@5: 0.027048 PREC@10: 0.021013 RECALL@1: 0.031347 RECALL@3: 0.079339 RECALL@5: 0.105661 RECALL@10: 0.165385 MAP@1: 0.040088 MAP@3: 0.062812 MAP@5: 0.069833 MAP@10: 0.077489 NDCG@1: 0.040088 NDCG@3: 0.084749 NDCG@5: 0.099474 NDCG@10: 0.119895 \n"
     ]
    }
   ],
   "source": [
    "# Algoritmo BPRMF com 30 fatores\n",
    "BprMF('train.dat', 'test.dat', 'result_BPRMF_30.dat', factors=30).compute()"
   ]
  },
  {
   "cell_type": "code",
   "execution_count": 35,
   "metadata": {},
   "outputs": [
    {
     "data": {
      "text/plain": [
       "0    0.168071\n",
       "1    0.164852\n",
       "2    0.164856\n",
       "3    0.164856\n",
       "dtype: float64"
      ]
     },
     "execution_count": 35,
     "metadata": {},
     "output_type": "execute_result"
    }
   ],
   "source": [
    "# Calculando MAP de BPRMF para 30 fatores\n",
    "result_BPRMF_30 = pd.read_csv('result_BPRMF_30.dat', sep='\\t', names=['userId', 'itemId', 'score'])\n",
    "\n",
    "map_BPRMF_30 = pd.Series([\n",
    "    MAP(result_BPRMF_30, test, 1),\n",
    "    MAP(result_BPRMF_30, test, 3), \n",
    "    MAP(result_BPRMF_30, test, 5), \n",
    "    MAP(result_BPRMF_30, test, 10),\n",
    "    ])\n",
    "\n",
    "map_BPRMF_30"
   ]
  },
  {
   "cell_type": "markdown",
   "metadata": {},
   "source": [
    "## Listwise"
   ]
  },
  {
   "cell_type": "markdown",
   "metadata": {},
   "source": [
    "### ListNet"
   ]
  },
  {
   "cell_type": "markdown",
   "metadata": {},
   "source": [
    "Implementação do algoritmo ListNet da família Listwise, teorizado e desenvolvido em \"Learning to Rank: From Pairwise Approach to Listwise Approach.\" por Zhe Cao, Tao Qin, Tie-Yan Liu, Ming-Feng Tsai e Hang Li. A implementação foi baseada no código-fonte de https://github.com/shiba24/learning2rank."
   ]
  },
  {
   "cell_type": "code",
   "execution_count": 36,
   "metadata": {},
   "outputs": [],
   "source": [
    "def acc(train_acc, test_acc, savename='result_acc.pdf'):\n",
    "    ep = np.arange(len(train_acc)) + 1\n",
    "\n",
    "    plt.plot(ep, train_acc, color=\"blue\", linewidth=1, linestyle=\"-\", label=\"Train\")\n",
    "    plt.plot(ep, test_acc, color=\"red\",  linewidth=1, linestyle=\"-\", label=\"Test\")\n",
    "    plt.title(\"Accuracy\")\n",
    "    plt.xlabel(\"iteration\")\n",
    "    plt.ylabel(\"accuracy\")\n",
    "    plt.legend(loc='lower right')\n",
    "    plt.savefig(savename)\n",
    "        \n",
    "def loss(train_loss, test_loss, savename='result_loss.pdf'):\n",
    "    ep = np.arange(len(train_loss)) + 1\n",
    "\n",
    "    plt.plot(ep, train_loss, color=\"blue\", linewidth=1, linestyle=\"-\", label=\"Train\")\n",
    "    plt.plot(ep, test_loss, color=\"red\",  linewidth=1, linestyle=\"-\", label=\"Test\")\n",
    "    plt.title(\"Loss\")\n",
    "    plt.xlabel(\"iteration\")\n",
    "    plt.ylabel(\"loss\")\n",
    "\n",
    "    plt.legend(loc='upper right')\n",
    "    plt.savefig(savename)"
   ]
  },
  {
   "cell_type": "code",
   "execution_count": 37,
   "metadata": {},
   "outputs": [],
   "source": [
    "class NN(object):\n",
    "\n",
    "    def loadModel(self, modelName):\n",
    "        print('Load model')\n",
    "        serializers.load_hdf5(modelName, self.model)\n",
    "        print('Load optimizer state')\n",
    "        serializers.load_hdf5(modelName[:-5] + 'state', self.optimizer)\n",
    "\n",
    "\n",
    "    def initializeModel(self, Model, train_X, n_units1, n_units2, optimizerAlgorithm):\n",
    "        print(\"prepare initialized model!\")\n",
    "        self.model = Model(len(train_X[0]), n_units1, n_units2, 1)\n",
    "        self.initializeOptimizer(optimizerAlgorithm)\n",
    "\n",
    "    def initializeOptimizer(self, optimizerAlgorithm):\n",
    "        if optimizerAlgorithm == \"Adam\":\n",
    "            self.optimizer = optimizers.Adam()\n",
    "        elif optimizerAlgorithm == \"AdaGrad\":\n",
    "            self.optimizer = optimizers.AdaGrad()\n",
    "        elif optimizerAlgorithm == \"SGD\":\n",
    "            self.optimizer = optimizers.MomentumSGD()\n",
    "        else:\n",
    "            raise ValueError('could not find %s in optimizers {\"Adam\", \"AdaGrad\", \"SGD\"}' % (optimizerAlgorithm))\n",
    "        self.optimizer.setup(self.model)\n",
    "\n",
    "    def saveModels(self, savemodelName):\n",
    "        print('save the model')\n",
    "        serializers.save_hdf5(savemodelName, self.model) \n",
    "        print('save the optimizer')\n",
    "        serializers.save_hdf5(savemodelName[:-5]+ 'state', self.optimizer)  \n",
    "\n",
    "    def splitData(self, fit_X, fit_y, tv_ratio):\n",
    "        print('load dataset')\n",
    "        perm = np.random.permutation(len(fit_X))\n",
    "        N_train = int(np.floor(len(fit_X) * tv_ratio))\n",
    "        train_X, validate_X = np.split(fit_X[perm].astype(np.float32),   [N_train])\n",
    "        train_y, validate_y = np.split(fit_y[perm].astype(np.float32).reshape(len(fit_y), 1), [N_train])\n",
    "        return train_X, train_y, validate_X, validate_y\n",
    "\n",
    "    def predictTargets(self, x_pred, batchsize):\n",
    "        N_pred = len(x_pred)\n",
    "        y_pred = np.zeros(0)\n",
    "        for j in tqdm(six.moves.range(0, N_pred, batchsize)):\n",
    "            x = chainer.Variable(np.asarray(x_pred[j:j + batchsize]), volatile='on')\n",
    "            y_pred = np.append(y_pred, self.model.predict(x))\n",
    "        return y_pred\n",
    "\n",
    "    def predict(self, predict_X):\n",
    "        return self.model.predict(predict_X.astype(np.float32))\n"
   ]
  },
  {
   "cell_type": "code",
   "execution_count": 38,
   "metadata": {},
   "outputs": [],
   "source": [
    "class Model(chainer.Chain):\n",
    "    \"\"\"\n",
    "    ListNet - Listwise comparison of ranking.\n",
    "    The original paper:\n",
    "        http://research.microsoft.com/en-us/people/tyliu/listnet.pdf\n",
    "    NOTICE:\n",
    "        The top-k probability is not written.\n",
    "        This is listwise approach with neuralnets, \n",
    "        comparing two arrays by Jensen-Shannon divergence.\n",
    "    \"\"\"\n",
    "    def __init__(self, n_in, n_units1, n_units2, n_out):\n",
    "        super(Model, self).__init__(\n",
    "            l1=L.Linear(n_in, n_units1),\n",
    "            l2=L.Linear(n_units1, n_units2),\n",
    "            l3=L.Linear(n_units2, n_out),\n",
    "        )\n",
    "\n",
    "\n",
    "    def __call__(self, x, t):\n",
    "        h1 = self.l1(x)\n",
    "        y = self.l3(F.relu(self.l2(F.relu(self.l1(x)))))\n",
    "        self.loss = self.jsd(t, y)\n",
    "        return self.loss\n",
    "\n",
    "\n",
    "    def predict(self, x):\n",
    "        h1 = F.relu(self.l1(x))\n",
    "        h2 = F.relu(self.l2(h1))\n",
    "        h = F.relu(self.l3(h2))\n",
    "        return h.data\n",
    "\n",
    "    def kld(self, vec_true, vec_compare):\n",
    "        ind = vec_true.data * vec_compare.data > 0\n",
    "        ind_var = chainer.Variable(ind)\n",
    "        include_nan = vec_true * F.log(vec_true / vec_compare)\n",
    "        z = chainer.Variable(np.zeros((len(ind), 1), dtype=np.float32))\n",
    "        return F.sum(F.where(ind_var, include_nan, z))\n",
    "\n",
    "    def jsd(self, vec_true, vec_compare):\n",
    "        vec_mean = 0.5 * (vec_true + vec_compare)\n",
    "        return 0.5 * self.kld(vec_true, vec_mean) + 0.5 * self.kld(vec_compare, vec_mean)\n",
    "\n",
    "    def topkprob(self, vec, k=5):\n",
    "        vec_sort = np.sort(vec)[-1::-1]\n",
    "        topk = vec_sort[:k]\n",
    "        ary = np.arange(k)\n",
    "        return np.prod([np.exp(topk[i]) / np.sum(np.exp(topk[i:])) for i in ary])\n",
    "\n",
    "    def listwise_cost(self, list_ans, list_pred):\n",
    "        return - np.sum(self.topkprob(list_ans) * np.log(self.topkprob(list_pred)))"
   ]
  },
  {
   "cell_type": "code",
   "execution_count": 39,
   "metadata": {},
   "outputs": [],
   "source": [
    "class ListNet(NN):\n",
    "    \"\"\"\n",
    "    ListNet training function.\n",
    "    Usage (Initialize):\n",
    "        RankModel = ListNet()\n",
    "\n",
    "    Usage (Traininng):\n",
    "        Model.fit(X, y)\n",
    "\n",
    "    With options:\n",
    "        Model.fit(X, y, batchsize=100, n_epoch=200, n_units1=512, n_units2=128, tv_ratio=0.95, optimizerAlgorithm=\"Adam\", savefigName=\"result.pdf\", savemodelName=\"ListNet.model\"):\n",
    "\n",
    "    \"\"\"\n",
    "    def __init__(self, resumemodelName=None):\n",
    "        self.resumemodelName = resumemodelName\n",
    "        self.train_loss, self.test_loss = [], []\n",
    "        self.train_acc, self.test_acc = [], []\n",
    "        if resumemodelName is not None:\n",
    "            print(\"load resume model!\")\n",
    "            self.loadModel(resumemodelName)\n",
    "\n",
    "    def ndcg(self, y_true, y_score, k=100):\n",
    "        y_true = y_true.ravel()\n",
    "        y_score = y_score.ravel()\n",
    "        y_true_sorted = sorted(y_true, reverse=True)\n",
    "        ideal_dcg = 0\n",
    "        for i in range(k):\n",
    "            ideal_dcg += (2 ** y_true_sorted[i] - 1.) / np.log2(i + 2)\n",
    "        dcg = 0\n",
    "        argsort_indices = np.argsort(y_score)[::-1]\n",
    "        for i in range(k):\n",
    "            dcg += (2 ** y_true[argsort_indices[i]] - 1.) / np.log2(i + 2)\n",
    "        ndcg = dcg / ideal_dcg\n",
    "        return ndcg\n",
    "\n",
    "    def trainModel(self, x_train, y_train, x_test, y_test, n_epoch, batchsize):\n",
    "        print(\"Start training and validation loop......\")\n",
    "        N = len(x_train)\n",
    "        N_test = len(x_test)\n",
    "        for epoch in six.moves.range(1, n_epoch + 1):\n",
    "            print('epoch', epoch)           \n",
    "            # training\n",
    "            perm = np.random.permutation(N)\n",
    "            sum_loss = 0\n",
    "            for i in tqdm(six.moves.range(0, N, batchsize)):\n",
    "                x = chainer.Variable(np.asarray(x_train[perm[i:i + batchsize]]))\n",
    "                t = chainer.Variable(np.asarray(y_train[perm[i:i + batchsize]]))\n",
    "\n",
    "                self.optimizer.update(self.model, x, t)\n",
    "                sum_loss += float(self.model.loss.data) * len(t.data)\n",
    "\n",
    "            print('train mean loss={}'.format(sum_loss / N))\n",
    "            self.train_loss.append(sum_loss / N)\n",
    "\n",
    "            perm = np.random.permutation(N_test)\n",
    "            sum_loss = 0\n",
    "            for j in tqdm(six.moves.range(0, N_test, batchsize)):\n",
    "                x = chainer.Variable(np.asarray(x_test[perm[j:j + batchsize]]))\n",
    "                t = chainer.Variable(np.asarray(y_test[perm[j:j + batchsize]]))\n",
    "                loss = self.model(x, t)\n",
    "                sum_loss += float(loss.data) * len(t.data)\n",
    "            print('test  mean loss={}'.format(sum_loss / N_test))\n",
    "            self.test_loss.append(sum_loss / N_test)\n",
    "\n",
    "            train_score = self.model.predict(chainer.Variable(x_train))\n",
    "            test_score = self.model.predict(chainer.Variable(x_test))\n",
    "            train_ndcg = self.ndcg(y_train, train_score)\n",
    "            test_ndcg = self.ndcg(y_test, test_score)\n",
    "            self.test_ndcg = test_ndcg\n",
    "            self.train_ndcg = train_ndcg\n",
    "            self.train_acc.append(train_ndcg)\n",
    "            self.test_acc.append(test_ndcg)\n",
    "            # print(\"epoch: {0}\".format(epoch + 1))\n",
    "            # print(\"NDCG@100 | train: {0}, test: {1}\".format(train_ndcg, test_ndcg))\n",
    "\n",
    "\n",
    "    def fit(self, fit_X, fit_y, batchsize=100, n_epoch=100, n_units1=512, n_units2=128, tv_ratio=0.95, optimizerAlgorithm=\"Adam\", savefigName=\"result.pdf\", savemodelName=\"ListNet.model\"):\n",
    "        train_X, train_y, validate_X, validate_y = self.splitData(fit_X, fit_y, tv_ratio)\n",
    "        print(\"The number of data, train:\", len(train_X), \"validate:\", len(validate_X))          \n",
    "\n",
    "        if self.resumemodelName is None:\n",
    "            self.initializeModel(Model, train_X, n_units1, n_units2, optimizerAlgorithm)\n",
    "        \n",
    "        self.trainModel(train_X, train_y, validate_X, validate_y, n_epoch, batchsize)\n",
    "\n",
    "        acc(self.train_acc, self.test_acc)\n",
    "        loss(self.train_loss, self.test_loss)\n",
    "        self.saveModels(savemodelName)\n",
    "        print(\"NDCG@100 | train: {0}, test: {1}\".format(self.train_ndcg, self.test_ndcg))\n",
    "        return self.test_acc\n",
    "\n",
    "    def test(self, fit_X, fit_y, batchsize=100, n_epoch=1, tv_ratio=0.95, optimizerAlgorithm=\"Adam\"):\n",
    "        \"\"\"\n",
    "        usage:\n",
    "        Model = ListNet(MODELNAME)\n",
    "        Model.test(fit_X, fit_y)\n",
    "        \"\"\"\n",
    "        \n",
    "        train_X, train_y, validate_X, validate_y = self.splitData(fit_X, fit_y, tv_ratio)\n",
    "        print(\"The number of data, train:\", len(train_X), \"validate:\", len(validate_X))\n",
    "        self.trainModel(train_X, train_y, validate_X, validate_y, n_epoch, batchsize)"
   ]
  },
  {
   "cell_type": "code",
   "execution_count": 40,
   "metadata": {},
   "outputs": [
    {
     "name": "stdout",
     "output_type": "stream",
     "text": [
      "load dataset\n",
      "The number of data, train: 12583 validate: 663\n",
      "prepare initialized model!\n",
      "Start training and validation loop......\n",
      "epoch 1\n"
     ]
    },
    {
     "name": "stderr",
     "output_type": "stream",
     "text": [
      "  0%|          | 0/126 [00:00<?, ?it/s]c:\\Users\\Lucas Ciziks\\AppData\\Local\\Programs\\Python\\Python310\\lib\\site-packages\\chainer\\functions\\math\\exponential.py:66: RuntimeWarning: divide by zero encountered in log\n",
      "  return utils.force_array(numpy.log(x[0])),\n",
      "c:\\Users\\Lucas Ciziks\\AppData\\Local\\Programs\\Python\\Python310\\lib\\site-packages\\chainer\\functions\\math\\exponential.py:66: RuntimeWarning: invalid value encountered in log\n",
      "  return utils.force_array(numpy.log(x[0])),\n",
      "c:\\Users\\Lucas Ciziks\\AppData\\Local\\Programs\\Python\\Python310\\lib\\site-packages\\chainer\\functions\\math\\basic_math.py:367: RuntimeWarning: invalid value encountered in multiply\n",
      "  return utils.force_array(x[0] * x[1]),\n",
      "c:\\Users\\Lucas Ciziks\\AppData\\Local\\Programs\\Python\\Python310\\lib\\site-packages\\chainer\\functions\\math\\basic_math.py:439: RuntimeWarning: invalid value encountered in divide\n",
      "  return utils.force_array(x[0] / x[1]),\n",
      "100%|██████████| 126/126 [00:00<00:00, 157.99it/s]\n"
     ]
    },
    {
     "name": "stdout",
     "output_type": "stream",
     "text": [
      "train mean loss=-296.14134025073514\n"
     ]
    },
    {
     "name": "stderr",
     "output_type": "stream",
     "text": [
      "100%|██████████| 7/7 [00:00<00:00, 269.94it/s]\n"
     ]
    },
    {
     "name": "stdout",
     "output_type": "stream",
     "text": [
      "test  mean loss=0.0\n",
      "epoch 2\n"
     ]
    },
    {
     "name": "stderr",
     "output_type": "stream",
     "text": [
      "100%|██████████| 126/126 [00:00<00:00, 141.88it/s]\n"
     ]
    },
    {
     "name": "stdout",
     "output_type": "stream",
     "text": [
      "train mean loss=0.0\n"
     ]
    },
    {
     "name": "stderr",
     "output_type": "stream",
     "text": [
      "100%|██████████| 7/7 [00:00<00:00, 501.31it/s]\n"
     ]
    },
    {
     "name": "stdout",
     "output_type": "stream",
     "text": [
      "test  mean loss=0.0\n",
      "epoch 3\n"
     ]
    },
    {
     "name": "stderr",
     "output_type": "stream",
     "text": [
      "100%|██████████| 126/126 [00:00<00:00, 138.54it/s]\n"
     ]
    },
    {
     "name": "stdout",
     "output_type": "stream",
     "text": [
      "train mean loss=0.0\n"
     ]
    },
    {
     "name": "stderr",
     "output_type": "stream",
     "text": [
      "100%|██████████| 7/7 [00:00<00:00, 467.94it/s]\n"
     ]
    },
    {
     "name": "stdout",
     "output_type": "stream",
     "text": [
      "test  mean loss=0.0\n",
      "epoch 4\n"
     ]
    },
    {
     "name": "stderr",
     "output_type": "stream",
     "text": [
      "100%|██████████| 126/126 [00:00<00:00, 146.63it/s]\n"
     ]
    },
    {
     "name": "stdout",
     "output_type": "stream",
     "text": [
      "train mean loss=0.0\n"
     ]
    },
    {
     "name": "stderr",
     "output_type": "stream",
     "text": [
      "100%|██████████| 7/7 [00:00<00:00, 520.15it/s]\n"
     ]
    },
    {
     "name": "stdout",
     "output_type": "stream",
     "text": [
      "test  mean loss=0.0\n",
      "epoch 5\n"
     ]
    },
    {
     "name": "stderr",
     "output_type": "stream",
     "text": [
      "100%|██████████| 126/126 [00:00<00:00, 148.18it/s]\n"
     ]
    },
    {
     "name": "stdout",
     "output_type": "stream",
     "text": [
      "train mean loss=0.0\n"
     ]
    },
    {
     "name": "stderr",
     "output_type": "stream",
     "text": [
      "100%|██████████| 7/7 [00:00<00:00, 471.88it/s]\n"
     ]
    },
    {
     "name": "stdout",
     "output_type": "stream",
     "text": [
      "test  mean loss=0.0\n",
      "epoch 6\n"
     ]
    },
    {
     "name": "stderr",
     "output_type": "stream",
     "text": [
      "100%|██████████| 126/126 [00:00<00:00, 140.19it/s]\n"
     ]
    },
    {
     "name": "stdout",
     "output_type": "stream",
     "text": [
      "train mean loss=0.0\n"
     ]
    },
    {
     "name": "stderr",
     "output_type": "stream",
     "text": [
      "100%|██████████| 7/7 [00:00<00:00, 391.78it/s]\n"
     ]
    },
    {
     "name": "stdout",
     "output_type": "stream",
     "text": [
      "test  mean loss=0.0\n",
      "epoch 7\n"
     ]
    },
    {
     "name": "stderr",
     "output_type": "stream",
     "text": [
      "100%|██████████| 126/126 [00:00<00:00, 126.85it/s]\n"
     ]
    },
    {
     "name": "stdout",
     "output_type": "stream",
     "text": [
      "train mean loss=0.0\n"
     ]
    },
    {
     "name": "stderr",
     "output_type": "stream",
     "text": [
      "100%|██████████| 7/7 [00:00<00:00, 512.41it/s]\n"
     ]
    },
    {
     "name": "stdout",
     "output_type": "stream",
     "text": [
      "test  mean loss=0.0\n",
      "epoch 8\n"
     ]
    },
    {
     "name": "stderr",
     "output_type": "stream",
     "text": [
      "100%|██████████| 126/126 [00:00<00:00, 170.40it/s]\n"
     ]
    },
    {
     "name": "stdout",
     "output_type": "stream",
     "text": [
      "train mean loss=0.0\n"
     ]
    },
    {
     "name": "stderr",
     "output_type": "stream",
     "text": [
      "100%|██████████| 7/7 [00:00<00:00, 482.93it/s]\n"
     ]
    },
    {
     "name": "stdout",
     "output_type": "stream",
     "text": [
      "test  mean loss=0.0\n",
      "epoch 9\n"
     ]
    },
    {
     "name": "stderr",
     "output_type": "stream",
     "text": [
      "100%|██████████| 126/126 [00:00<00:00, 167.64it/s]\n"
     ]
    },
    {
     "name": "stdout",
     "output_type": "stream",
     "text": [
      "train mean loss=0.0\n"
     ]
    },
    {
     "name": "stderr",
     "output_type": "stream",
     "text": [
      "100%|██████████| 7/7 [00:00<00:00, 515.50it/s]\n"
     ]
    },
    {
     "name": "stdout",
     "output_type": "stream",
     "text": [
      "test  mean loss=0.0\n",
      "epoch 10\n"
     ]
    },
    {
     "name": "stderr",
     "output_type": "stream",
     "text": [
      "100%|██████████| 126/126 [00:00<00:00, 171.57it/s]\n"
     ]
    },
    {
     "name": "stdout",
     "output_type": "stream",
     "text": [
      "train mean loss=0.0\n"
     ]
    },
    {
     "name": "stderr",
     "output_type": "stream",
     "text": [
      "100%|██████████| 7/7 [00:00<00:00, 468.29it/s]\n"
     ]
    },
    {
     "name": "stdout",
     "output_type": "stream",
     "text": [
      "test  mean loss=0.0\n",
      "save the model\n",
      "save the optimizer\n",
      "NDCG@100 | train: 0.7722957869173585, test: 0.8257636005725805\n"
     ]
    },
    {
     "data": {
      "image/png": "[encoded data removed]",
      "text/plain": [
       "<Figure size 640x480 with 1 Axes>"
      ]
     },
     "metadata": {},
     "output_type": "display_data"
    }
   ],
   "source": [
    "# Treinando Modelo ListNet\n",
    "Model_ListWise = ListNet()\n",
    "map_ListWise = Model_ListWise.fit(review[[\"userId\", \"itemId\"]].to_numpy(), review[\"rating\"].to_numpy(), n_epoch=10)"
   ]
  },
  {
   "cell_type": "code",
   "execution_count": 41,
   "metadata": {},
   "outputs": [
    {
     "data": {
      "text/plain": [
       "0    0.825764\n",
       "1    0.825764\n",
       "2    0.825764\n",
       "3    0.825764\n",
       "dtype: float64"
      ]
     },
     "execution_count": 41,
     "metadata": {},
     "output_type": "execute_result"
    }
   ],
   "source": [
    "map_ListNet = pd.Series([\n",
    "    map_ListWise[0],\n",
    "    map_ListWise[2],\n",
    "    map_ListWise[4],\n",
    "    map_ListWise[9]\n",
    "    ])\n",
    "\n",
    "map_ListNet"
   ]
  },
  {
   "cell_type": "markdown",
   "metadata": {},
   "source": [
    "# Resultados"
   ]
  },
  {
   "cell_type": "code",
   "execution_count": 42,
   "metadata": {},
   "outputs": [
    {
     "data": {
      "text/html": [
       "<div>\n",
       "<style scoped>\n",
       "    .dataframe tbody tr th:only-of-type {\n",
       "        vertical-align: middle;\n",
       "    }\n",
       "\n",
       "    .dataframe tbody tr th {\n",
       "        vertical-align: top;\n",
       "    }\n",
       "\n",
       "    .dataframe thead tr th {\n",
       "        text-align: left;\n",
       "    }\n",
       "</style>\n",
       "<table border=\"1\" class=\"dataframe\">\n",
       "  <thead>\n",
       "    <tr>\n",
       "      <th></th>\n",
       "      <th colspan=\"3\" halign=\"left\">Pointwise</th>\n",
       "      <th colspan=\"3\" halign=\"left\">Pairwise</th>\n",
       "      <th>Listwise</th>\n",
       "    </tr>\n",
       "    <tr>\n",
       "      <th></th>\n",
       "      <th>SVD Otimizado</th>\n",
       "      <th>IAKNN CaseRecommender</th>\n",
       "      <th>IAKNN Cossine Similarity</th>\n",
       "      <th>BPRMF 5 Fatores</th>\n",
       "      <th>BPRMF 15 Fatores</th>\n",
       "      <th>BPRMF 30 Fatores</th>\n",
       "      <th>ListNet</th>\n",
       "    </tr>\n",
       "  </thead>\n",
       "  <tbody>\n",
       "    <tr>\n",
       "      <th>MAP@1</th>\n",
       "      <td>0.065371</td>\n",
       "      <td>0.029418</td>\n",
       "      <td>0.019842</td>\n",
       "      <td>0.168172</td>\n",
       "      <td>0.166845</td>\n",
       "      <td>0.168071</td>\n",
       "      <td>0.825764</td>\n",
       "    </tr>\n",
       "    <tr>\n",
       "      <th>MAP@3</th>\n",
       "      <td>0.062340</td>\n",
       "      <td>0.029394</td>\n",
       "      <td>0.019842</td>\n",
       "      <td>0.163876</td>\n",
       "      <td>0.163621</td>\n",
       "      <td>0.164852</td>\n",
       "      <td>0.825764</td>\n",
       "    </tr>\n",
       "    <tr>\n",
       "      <th>MAP@5</th>\n",
       "      <td>0.062200</td>\n",
       "      <td>0.029394</td>\n",
       "      <td>0.019842</td>\n",
       "      <td>0.163872</td>\n",
       "      <td>0.163588</td>\n",
       "      <td>0.164856</td>\n",
       "      <td>0.825764</td>\n",
       "    </tr>\n",
       "    <tr>\n",
       "      <th>MAP@10</th>\n",
       "      <td>0.062188</td>\n",
       "      <td>0.029394</td>\n",
       "      <td>0.019842</td>\n",
       "      <td>0.163868</td>\n",
       "      <td>0.163588</td>\n",
       "      <td>0.164856</td>\n",
       "      <td>0.825764</td>\n",
       "    </tr>\n",
       "  </tbody>\n",
       "</table>\n",
       "</div>"
      ],
      "text/plain": [
       "           Pointwise                                                 \\\n",
       "       SVD Otimizado IAKNN CaseRecommender IAKNN Cossine Similarity   \n",
       "MAP@1       0.065371              0.029418                 0.019842   \n",
       "MAP@3       0.062340              0.029394                 0.019842   \n",
       "MAP@5       0.062200              0.029394                 0.019842   \n",
       "MAP@10      0.062188              0.029394                 0.019842   \n",
       "\n",
       "              Pairwise                                    Listwise  \n",
       "       BPRMF 5 Fatores BPRMF 15 Fatores BPRMF 30 Fatores   ListNet  \n",
       "MAP@1         0.168172         0.166845         0.168071  0.825764  \n",
       "MAP@3         0.163876         0.163621         0.164852  0.825764  \n",
       "MAP@5         0.163872         0.163588         0.164856  0.825764  \n",
       "MAP@10        0.163868         0.163588         0.164856  0.825764  "
      ]
     },
     "execution_count": 42,
     "metadata": {},
     "output_type": "execute_result"
    }
   ],
   "source": [
    "multicol1 = pd.MultiIndex.from_tuples([('Pointwise', 'SVD Otimizado'),\n",
    "                ('Pointwise', 'IAKNN CaseRecommender'),\n",
    "                ('Pointwise', 'IAKNN Cossine Similarity'),\n",
    "                (\"Pairwise\", \"BPRMF 5 Fatores\"),\n",
    "                (\"Pairwise\", \"BPRMF 15 Fatores\"),\n",
    "                (\"Pairwise\", \"BPRMF 30 Fatores\"),\n",
    "                (\"Listwise\", \"ListNet\")\n",
    "            ])\n",
    "\n",
    "# Adicionando MAPs de cada algoritmo\n",
    "MAPs = np.array([map_svd, map_IAKNN, map_IAKNN_sim, map_BPRMF_5, map_BPRMF_15, map_BPRMF_30, map_ListNet]).T\n",
    "\n",
    "# Unindo métricas de avaliação\n",
    "metrics = pd.DataFrame(MAPs,\n",
    "    columns=multicol1,\n",
    "    index = [\"MAP@1\", \"MAP@3\", \"MAP@5\", \"MAP@10\"]\n",
    ")\n",
    "\n",
    "metrics\n"
   ]
  },
  {
   "cell_type": "code",
   "execution_count": 43,
   "metadata": {},
   "outputs": [],
   "source": [
    "# Recuperando similaridades por cosseno já calculadas\n",
    "similarity_games = pd.read_csv(\"sim_games.dat\", header=None, sep=\"\\t\")\n",
    "similarity_games.columns = [\"Game 1\", \"Game 2\", \"Similarity\"]"
   ]
  },
  {
   "cell_type": "code",
   "execution_count": 44,
   "metadata": {},
   "outputs": [],
   "source": [
    "# Recuperando similaridades por cosseno já calculadas\n",
    "similarity_games = pd.read_csv(\"sim_games.dat\", header=None, sep=\"\\t\")\n",
    "similarity_games.columns = [\"Game 1\", \"Game 2\", \"Similarity\"]\n",
    "\n",
    "# Calculando ILS para cada Algoritmo Pointwise\n",
    "ILS_SVD = mean_ILS(result_svd, similarity_games)\n",
    "ILS_IAKNN = mean_ILS(result_IAKNN, similarity_games)\n",
    "ILS_IAKNN_Sim = mean_ILS(result_IAKNN_sim, similarity_games)\n",
    "\n",
    "# Calculando ILS para cada Algoritmo Pairwise\n",
    "ILS_BPRF_5 = mean_ILS(result_BPRMF_5, similarity_games)\n",
    "ILS_BPRF_15 = mean_ILS(result_BPRMF_15, similarity_games)\n",
    "ILS_BPRF_30 = mean_ILS(result_BPRMF_30, similarity_games)"
   ]
  },
  {
   "cell_type": "code",
   "execution_count": 47,
   "metadata": {},
   "outputs": [],
   "source": [
    "# Adicionando Métrica ILS de cada Algoritmo\n",
    "ILS_row = {\n",
    "    ('Pointwise', 'SVD Otimizado'): ILS_SVD,\n",
    "    ('Pointwise', 'IAKNN CaseRecommender'): ILS_IAKNN,\n",
    "    ('Pointwise', 'IAKNN Cossine Similarity'): ILS_IAKNN_Sim,\n",
    "    (\"Pairwise\", \"BPRMF 5 Fatores\"): ILS_BPRF_5,\n",
    "    (\"Pairwise\", \"BPRMF 15 Fatores\"): ILS_BPRF_15,\n",
    "    (\"Pairwise\", \"BPRMF 30 Fatores\"): ILS_BPRF_30,\n",
    "    (\"Listwise\", \"ListNet\"): \"Não se aplica\"\n",
    "}\n",
    "\n",
    "metrics.loc[\"ILS\", :] = ILS_row"
   ]
  },
  {
   "cell_type": "code",
   "execution_count": 48,
   "metadata": {},
   "outputs": [
    {
     "data": {
      "text/html": [
       "<div>\n",
       "<style scoped>\n",
       "    .dataframe tbody tr th:only-of-type {\n",
       "        vertical-align: middle;\n",
       "    }\n",
       "\n",
       "    .dataframe tbody tr th {\n",
       "        vertical-align: top;\n",
       "    }\n",
       "\n",
       "    .dataframe thead tr th {\n",
       "        text-align: left;\n",
       "    }\n",
       "</style>\n",
       "<table border=\"1\" class=\"dataframe\">\n",
       "  <thead>\n",
       "    <tr>\n",
       "      <th></th>\n",
       "      <th colspan=\"3\" halign=\"left\">Pointwise</th>\n",
       "      <th colspan=\"3\" halign=\"left\">Pairwise</th>\n",
       "      <th>Listwise</th>\n",
       "    </tr>\n",
       "    <tr>\n",
       "      <th></th>\n",
       "      <th>SVD Otimizado</th>\n",
       "      <th>IAKNN CaseRecommender</th>\n",
       "      <th>IAKNN Cossine Similarity</th>\n",
       "      <th>BPRMF 5 Fatores</th>\n",
       "      <th>BPRMF 15 Fatores</th>\n",
       "      <th>BPRMF 30 Fatores</th>\n",
       "      <th>ListNet</th>\n",
       "    </tr>\n",
       "  </thead>\n",
       "  <tbody>\n",
       "    <tr>\n",
       "      <th>MAP@1</th>\n",
       "      <td>0.065371</td>\n",
       "      <td>0.029418</td>\n",
       "      <td>0.019842</td>\n",
       "      <td>0.168172</td>\n",
       "      <td>0.166845</td>\n",
       "      <td>0.168071</td>\n",
       "      <td>0.825764</td>\n",
       "    </tr>\n",
       "    <tr>\n",
       "      <th>MAP@3</th>\n",
       "      <td>0.062340</td>\n",
       "      <td>0.029394</td>\n",
       "      <td>0.019842</td>\n",
       "      <td>0.163876</td>\n",
       "      <td>0.163621</td>\n",
       "      <td>0.164852</td>\n",
       "      <td>0.825764</td>\n",
       "    </tr>\n",
       "    <tr>\n",
       "      <th>MAP@5</th>\n",
       "      <td>0.062200</td>\n",
       "      <td>0.029394</td>\n",
       "      <td>0.019842</td>\n",
       "      <td>0.163872</td>\n",
       "      <td>0.163588</td>\n",
       "      <td>0.164856</td>\n",
       "      <td>0.825764</td>\n",
       "    </tr>\n",
       "    <tr>\n",
       "      <th>MAP@10</th>\n",
       "      <td>0.062188</td>\n",
       "      <td>0.029394</td>\n",
       "      <td>0.019842</td>\n",
       "      <td>0.163868</td>\n",
       "      <td>0.163588</td>\n",
       "      <td>0.164856</td>\n",
       "      <td>0.825764</td>\n",
       "    </tr>\n",
       "    <tr>\n",
       "      <th>ILS</th>\n",
       "      <td>10.705737</td>\n",
       "      <td>17.714538</td>\n",
       "      <td>15.260545</td>\n",
       "      <td>8.090326</td>\n",
       "      <td>8.048933</td>\n",
       "      <td>7.898754</td>\n",
       "      <td>Não se aplica</td>\n",
       "    </tr>\n",
       "  </tbody>\n",
       "</table>\n",
       "</div>"
      ],
      "text/plain": [
       "           Pointwise                                                 \\\n",
       "       SVD Otimizado IAKNN CaseRecommender IAKNN Cossine Similarity   \n",
       "MAP@1       0.065371              0.029418                 0.019842   \n",
       "MAP@3       0.062340              0.029394                 0.019842   \n",
       "MAP@5       0.062200              0.029394                 0.019842   \n",
       "MAP@10      0.062188              0.029394                 0.019842   \n",
       "ILS        10.705737             17.714538                15.260545   \n",
       "\n",
       "              Pairwise                                         Listwise  \n",
       "       BPRMF 5 Fatores BPRMF 15 Fatores BPRMF 30 Fatores        ListNet  \n",
       "MAP@1         0.168172         0.166845         0.168071       0.825764  \n",
       "MAP@3         0.163876         0.163621         0.164852       0.825764  \n",
       "MAP@5         0.163872         0.163588         0.164856       0.825764  \n",
       "MAP@10        0.163868         0.163588         0.164856       0.825764  \n",
       "ILS           8.090326         8.048933         7.898754  Não se aplica  "
      ]
     },
     "execution_count": 48,
     "metadata": {},
     "output_type": "execute_result"
    }
   ],
   "source": [
    "# Exibindo métricas finais encontradas\n",
    "metrics"
   ]
  }
 ],
 "metadata": {
  "kernelspec": {
   "display_name": "Python 3.10.7 64-bit",
   "language": "python",
   "name": "python3"
  },
  "language_info": {
   "codemirror_mode": {
    "name": "ipython",
    "version": 3
   },
   "file_extension": ".py",
   "mimetype": "text/x-python",
   "name": "python",
   "nbconvert_exporter": "python",
   "pygments_lexer": "ipython3",
   "version": "3.10.7"
  },
  "orig_nbformat": 4,
  "vscode": {
   "interpreter": {
    "hash": "8c2e15034f07720a3e57266749b805dbe4b964ae6e11e3a0ca2f3b08408e10de"
   }
  }
 },
 "nbformat": 4,
 "nbformat_minor": 2
}
