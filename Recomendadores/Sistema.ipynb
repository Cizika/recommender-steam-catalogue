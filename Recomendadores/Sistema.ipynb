{
 "cells": [
  {
   "cell_type": "markdown",
   "metadata": {},
   "source": [
    "# Recomendação de Jogos da Steam\n",
    "\n",
    "Lucas Ciziks - 125599472 \n",
    "\n",
    "luciziks@usp.br\n",
    "\n",
    "Pedro Maçonetto - 12675419\n",
    "\n",
    "pedromaconetto@usp.br\n",
    "\n",
    "### RESUMO\n",
    "Desenvolvimento, avaliação e comparação de diferentes abordagens\n",
    "de Sistemas de Recomendação para sugestão e ranqueamento de\n",
    "jogos com base no catálogo da plataforma de compra e venda de\n",
    "jogos online Steam."
   ]
  },
  {
   "cell_type": "markdown",
   "metadata": {},
   "source": [
    "## Bases de Dados\n",
    "Serão utilizadas duas bases de dados, uma com reviews de usuários de todo o mundo para determinados jogos, que sera nossa base de dados principal, com 8GB de dados. Utilizaremos também uma base de metadados sobre os jogos para auxilio nos algoritmos de recomendação"
   ]
  },
  {
   "cell_type": "code",
   "execution_count": 2,
   "metadata": {},
   "outputs": [
    {
     "ename": "ModuleNotFoundError",
     "evalue": "No module named 'CaseRecommender'",
     "output_type": "error",
     "traceback": [
      "\u001b[1;31m---------------------------------------------------------------------------\u001b[0m",
      "\u001b[1;31mModuleNotFoundError\u001b[0m                       Traceback (most recent call last)",
      "\u001b[1;32mc:\\Users\\Pedro\\OneDrive\\Área de Trabalho\\arquivos vscode\\Recomendacao\\Sistema.ipynb Célula: 3\u001b[0m in \u001b[0;36m<module>\u001b[1;34m\u001b[0m\n\u001b[0;32m      <a href='vscode-notebook-cell:/c%3A/Users/Pedro/OneDrive/%C3%81rea%20de%20Trabalho/arquivos%20vscode/Recomendacao/Sistema.ipynb#W1sZmlsZQ%3D%3D?line=1'>2</a>\u001b[0m \u001b[39mimport\u001b[39;00m \u001b[39mpandas\u001b[39;00m \u001b[39mas\u001b[39;00m \u001b[39mpd\u001b[39;00m\n\u001b[0;32m      <a href='vscode-notebook-cell:/c%3A/Users/Pedro/OneDrive/%C3%81rea%20de%20Trabalho/arquivos%20vscode/Recomendacao/Sistema.ipynb#W1sZmlsZQ%3D%3D?line=2'>3</a>\u001b[0m \u001b[39mimport\u001b[39;00m \u001b[39mnumpy\u001b[39;00m \u001b[39mas\u001b[39;00m \u001b[39mnp\u001b[39;00m\n\u001b[1;32m----> <a href='vscode-notebook-cell:/c%3A/Users/Pedro/OneDrive/%C3%81rea%20de%20Trabalho/arquivos%20vscode/Recomendacao/Sistema.ipynb#W1sZmlsZQ%3D%3D?line=3'>4</a>\u001b[0m \u001b[39mimport\u001b[39;00m \u001b[39mCaseRecommender\u001b[39;00m \u001b[39mas\u001b[39;00m \u001b[39mcaserec\u001b[39;00m\n",
      "\u001b[1;31mModuleNotFoundError\u001b[0m: No module named 'CaseRecommender'"
     ]
    }
   ],
   "source": [
    "# Bibliotecas a serem utilizadas no trabalho\n",
    "import pandas as pd\n",
    "import numpy as np\n",
    "import CaseRecommender as caserec"
   ]
  },
  {
   "cell_type": "markdown",
   "metadata": {},
   "source": [
    "Como nossa base de dados principal é extremamente grande, com mais de 8GB de tamanho, faremos uma amostragem de 1000 usuários para podermos aplicar os métodos de forma mais otimizada em relação ao tempo de processamento"
   ]
  },
  {
   "cell_type": "code",
   "execution_count": 2,
   "metadata": {},
   "outputs": [],
   "source": [
    "df = pd.read_csv('steam_reviews.csv')\n",
    "\n",
    "# Separamos os valores unicos de todos os usuários presentes do BD\n",
    "steam_id = df['author.steamid'].unique()\n",
    "\n",
    "# Escolhemos aleatóriamente 1000 desses usuários\n",
    "users_100 = np.random.choice(steam_id, 1000)\n",
    "\n",
    "#Criamos um DataFrame separado somente com estes usuários e suas informações\n",
    "data_reduzido = df[df['author.steamid'].isin(users_100)]\n",
    "\n",
    "# Trasnformamos por fim este dataframe em um arquivo .csv para facilitar a manipulação dos dados ao longo do tempo\n",
    "data_reduzido.to_csv('reviews_reduzido.csv')"
   ]
  },
  {
   "cell_type": "markdown",
   "metadata": {},
   "source": [
    "Utilizaremos então uma base de dados reduzida, começamos pelo tratamento dos dados."
   ]
  },
  {
   "cell_type": "code",
   "execution_count": 3,
   "metadata": {},
   "outputs": [],
   "source": [
    "review = pd.read_csv('reviews_reduzido.csv')\n",
    "metadados = pd.read_csv('steam_metadados.csv')"
   ]
  },
  {
   "cell_type": "code",
   "execution_count": 7,
   "metadata": {},
   "outputs": [
    {
     "data": {
      "text/plain": [
       "27033"
      ]
     },
     "execution_count": 7,
     "metadata": {},
     "output_type": "execute_result"
    }
   ],
   "source": [
    "len(metadados.name.unique())"
   ]
  },
  {
   "cell_type": "code",
   "execution_count": 9,
   "metadata": {},
   "outputs": [
    {
     "data": {
      "text/plain": [
       "228"
      ]
     },
     "execution_count": 9,
     "metadata": {},
     "output_type": "execute_result"
    }
   ],
   "source": [
    "len(review.app_name.unique())"
   ]
  }
 ],
 "metadata": {
  "kernelspec": {
   "display_name": "Python 3.10.4 64-bit (windows store)",
   "language": "python",
   "name": "python3"
  },
  "language_info": {
   "codemirror_mode": {
    "name": "ipython",
    "version": 3
   },
   "file_extension": ".py",
   "mimetype": "text/x-python",
   "name": "python",
   "nbconvert_exporter": "python",
   "pygments_lexer": "ipython3",
   "version": "3.10.8"
  },
  "orig_nbformat": 4,
  "vscode": {
   "interpreter": {
    "hash": "67ed81ff52876af7bd8a0aa7e6122df8fe03d1a0c95153b294d8edcf484dd9b3"
   }
  }
 },
 "nbformat": 4,
 "nbformat_minor": 2
}
